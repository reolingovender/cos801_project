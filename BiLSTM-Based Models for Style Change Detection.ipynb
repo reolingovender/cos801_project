{
 "cells": [
  {
   "cell_type": "markdown",
   "metadata": {},
   "source": [
    "## Data Preparation and Feature Engineering"
   ]
  },
  {
   "cell_type": "code",
   "execution_count": 31,
   "metadata": {},
   "outputs": [],
   "source": [
    "import os\n",
    "import json\n",
    "import pandas as pd\n",
    "from nltk.tokenize import sent_tokenize\n",
    "from sklearn.feature_extraction.text import TfidfVectorizer\n",
    "from sklearn.metrics.pairwise import cosine_similarity\n",
    "from sentence_transformers import SentenceTransformer\n",
    "import numpy as np\n",
    "import math\n",
    "from collections import Counter\n",
    "from sklearn.metrics import precision_score, recall_score, f1_score, classification_report\n",
    "\n",
    "# Load the pre-trained Sentence-BERT model\n",
    "embedding_model = SentenceTransformer('all-MiniLM-L6-v2')  # Efficient for short text\n",
    "\n",
    "# --- Helper Functions ---\n",
    "def clean_text_for_quotes(text):\n",
    "    \"\"\"\n",
    "    Cleans and normalizes quotation marks in the text.\n",
    "    - Converts curly quotes to straight quotes.\n",
    "    - Removes unmatched or excessive quotes.\n",
    "    \"\"\"\n",
    "    text = text.replace(\"“\", '\"').replace(\"”\", '\"')\n",
    "    text = text.replace(\"‘\", \"'\").replace(\"’\", \"'\")\n",
    "    text = text.replace(' \"', ' ').replace('\" ', ' ').strip('\"')\n",
    "    return text\n",
    "\n",
    "def refined_single_newline_split(text):\n",
    "    \"\"\"\n",
    "    Splits text into paragraphs using single newline breaks to ensure proper separation.\n",
    "    \"\"\"\n",
    "    paragraphs = [para.strip() for para in text.split(\"\\n\") if para.strip()]\n",
    "    return paragraphs\n",
    "\n",
    "def extract_paragraph_features(paragraph):\n",
    "    \"\"\"\n",
    "    Extracts basic features for a single paragraph.\n",
    "    \"\"\"\n",
    "    # Tokenize paragraph into sentences\n",
    "    sentences = [sent for sent in sent_tokenize(paragraph) if is_valid_text(sent)]  # Filter valid sentences\n",
    "    if not sentences:\n",
    "        return {\n",
    "        # 'sentence_length': sentence_length,\n",
    "        'avg_word_length': 0,\n",
    "        'unique_word_ratio': 0,\n",
    "        'punctuation_density': 0,\n",
    "        'capitalization_ratio': 0,\n",
    "    }\n",
    "    words = paragraph.split()\n",
    "    unique_words = set(words)\n",
    "\n",
    "    # Basic linguistic features\n",
    "    sentence_length = np.mean([len(sentence.split()) for sentence in sentences]) if sentences else 0\n",
    "    avg_word_length = np.mean([len(word) for word in words]) if words else 0\n",
    "    unique_word_ratio = len(unique_words) / len(words) if words else 0\n",
    "\n",
    "    # Punctuation and capitalization\n",
    "    punctuation_density = sum(1 for char in paragraph if char in '.,!?') / len(paragraph) if len(paragraph) > 0 else 0\n",
    "    capitalization_ratio = sum(1 for char in paragraph if char.isupper()) / len(paragraph) if len(paragraph) > 0 else 0\n",
    "\n",
    "    return {\n",
    "        # 'sentence_length': sentence_length,\n",
    "        'avg_word_length': avg_word_length,\n",
    "        'unique_word_ratio': unique_word_ratio,\n",
    "        'punctuation_density': punctuation_density,\n",
    "        'capitalization_ratio': capitalization_ratio,\n",
    "    }\n",
    "\n",
    "def extract_advanced_features_with_embeddings(paragraph, embedding_model):\n",
    "    \"\"\"\n",
    "    Enhanced feature extraction for advanced metrics, including semantic shift.\n",
    "    \"\"\"\n",
    "    # Tokenize paragraph into sentences\n",
    "    sentences = [sent for sent in sent_tokenize(paragraph) if is_valid_text(sent)]  # Filter valid sentences\n",
    "    if not sentences:\n",
    "        return {\n",
    "            'max_cosine_sim': 0,\n",
    "            'rare_word_ratio': 0,\n",
    "            'entropy': 0,\n",
    "            'semantic_shift': 0,\n",
    "            'embedding': embedding_model.encode(paragraph) if paragraph.strip() else np.zeros(embedding_model.get_sentence_embedding_dimension()),\n",
    "        }\n",
    "\n",
    "    # Tokenize paragraph into words\n",
    "    words = paragraph.split()\n",
    "    unique_words = set(words)\n",
    "\n",
    "    # Compute embedding for the entire paragraph\n",
    "    embedding = embedding_model.encode(paragraph)\n",
    "\n",
    "    # Cosine similarity (bag-of-words)\n",
    "    try:\n",
    "        tfidf_vectorizer = TfidfVectorizer()\n",
    "        tfidf_matrix = tfidf_vectorizer.fit_transform(sentences)\n",
    "        max_cosine_sim = 0\n",
    "        for i in range(len(sentences) - 1):\n",
    "            sim = cosine_similarity(tfidf_matrix[i], tfidf_matrix[i + 1])\n",
    "            max_cosine_sim = max(max_cosine_sim, sim[0][0])\n",
    "    except ValueError as e:\n",
    "        if 'empty vocabulary' in str(e):\n",
    "            print(f\"Skipping TF-IDF computation: {e}\")\n",
    "            max_cosine_sim = 0\n",
    "\n",
    "    # Rare word ratio\n",
    "    rare_word_threshold = 0.01\n",
    "    word_counts = Counter(words)\n",
    "    rare_words = [word for word, count in word_counts.items() if count / len(words) < rare_word_threshold]\n",
    "    rare_word_ratio = len(rare_words) / len(words) if words else 0\n",
    "\n",
    "    # Entropy\n",
    "    word_probs = [count / len(words) for count in word_counts.values()]\n",
    "    entropy = -sum(p * math.log(p) for p in word_probs) if word_probs else 0\n",
    "\n",
    "    # Semantic shift across sentences\n",
    "    try:\n",
    "        sentence_embeddings = embedding_model.encode(sentences) if sentences else [embedding]\n",
    "        semantic_shift = (\n",
    "            np.mean(\n",
    "                [\n",
    "                    cosine_similarity([sentence_embeddings[i]], [sentence_embeddings[i + 1]])[0][0]\n",
    "                    for i in range(len(sentence_embeddings) - 1)\n",
    "                ]\n",
    "            )\n",
    "            if len(sentence_embeddings) > 1\n",
    "            else 0\n",
    "        )\n",
    "    except Exception as e:\n",
    "        print(f\"Error computing semantic shift: {e}\")\n",
    "        semantic_shift = 0\n",
    "\n",
    "    return {\n",
    "        'max_cosine_sim': max_cosine_sim,\n",
    "        'rare_word_ratio': rare_word_ratio,\n",
    "        'entropy': entropy,\n",
    "        'semantic_shift': semantic_shift,\n",
    "        'embedding': embedding,\n",
    "    }\n",
    "\n",
    "\n",
    "def compare_full_paragraphs(para1_features, para2_features):\n",
    "    \"\"\"\n",
    "    Computes differences between features of two paragraphs, including embedding similarity.\n",
    "    \"\"\"\n",
    "    feature_differences = {\n",
    "        f'diff_{feature}': abs(para1_features[feature] - para2_features[feature])\n",
    "        for feature in para1_features.keys() if feature != 'embedding'\n",
    "    }\n",
    "\n",
    "    # Compute embedding similarity\n",
    "    embedding_similarity = cosine_similarity(\n",
    "        [para1_features['embedding']], [para2_features['embedding']]\n",
    "    )[0][0]\n",
    "    feature_differences['embedding_similarity'] = embedding_similarity\n",
    "\n",
    "    return feature_differences\n",
    "\n",
    "def process_paragraph_with_embeddings(text, labels):\n",
    "    \"\"\"\n",
    "    Processes text and labels into paragraph-level feature comparisons, including embedding similarity.\n",
    "    \"\"\"\n",
    "    paragraphs = refined_single_newline_split(text)\n",
    "    data = []\n",
    "    for i in range(len(paragraphs) - 1):\n",
    "        para1 = paragraphs[i]\n",
    "        para2 = paragraphs[i + 1]\n",
    "        label = labels[i]\n",
    "        \n",
    "        # Extract features for both paragraphs\n",
    "        para1_features = {**extract_paragraph_features(para1), **extract_advanced_features_with_embeddings(para1)}\n",
    "        para2_features = {**extract_paragraph_features(para2), **extract_advanced_features_with_embeddings(para2)}\n",
    "\n",
    "        # Compute feature differences and embedding similarity\n",
    "        comparison_features = compare_full_paragraphs(para1_features, para2_features)\n",
    "        comparison_features['label'] = label\n",
    "        comparison_features['paragraph_1'] = para1\n",
    "        comparison_features['paragraph_2'] = para2\n",
    "        data.append(comparison_features)\n",
    "    \n",
    "    return pd.DataFrame(data)\n",
    "\n",
    "# --- Usage Example ---\n",
    "# Assuming `problem_33_text` and `problem_33_labels` are loaded\n",
    "# processed_data_with_embeddings = process_paragraph_with_embeddings(problem_33_text, problem_33_labels)\n",
    "\n",
    "# Save the processed dataset to CSV\n",
    "# processed_data_with_embeddings.to_csv(\"processed_problem_33_with_embeddings.csv\", index=False)\n",
    "# print(\"Processed data saved to 'processed_problem_33_with_embeddings.csv'.\")\n"
   ]
  },
  {
   "cell_type": "code",
   "execution_count": 32,
   "metadata": {},
   "outputs": [],
   "source": [
    "import os\n",
    "from tensorflow.keras.preprocessing.sequence import pad_sequences\n",
    "import torch\n",
    "\n",
    "def prepare_data_for_bilstm_from_directory(text_dir, label_dir):\n",
    "    \"\"\"\n",
    "    Prepares input data for BiLSTM from all files in specified directories.\n",
    "    :param text_dir: Directory containing text files.\n",
    "    :param label_dir: Directory containing label JSON files.\n",
    "    :return: Padded feature and label tensors.\n",
    "    \"\"\"\n",
    "    all_features = []\n",
    "    all_labels = []\n",
    "\n",
    "    # Pair text and label files\n",
    "    text_files = sorted([f for f in os.listdir(text_dir) if f.endswith(\".txt\")])\n",
    "    label_files = sorted([f for f in os.listdir(label_dir) if f.endswith(\".json\")])\n",
    "\n",
    "    if len(text_files) != len(label_files):\n",
    "        raise ValueError(\"Mismatch between number of text files and label files!\")\n",
    "\n",
    "    documents = [(os.path.join(text_dir, t), os.path.join(label_dir, l)) for t, l in zip(text_files, label_files)]\n",
    "    all_data = []\n",
    "\n",
    "    for text_path, label_path in documents:\n",
    "        # Load text and labels\n",
    "        with open(text_path, 'r') as tf:\n",
    "            text = tf.read()\n",
    "        with open(label_path, 'r') as lf:\n",
    "            labels = json.load(lf)[\"changes\"]\n",
    "\n",
    "        if len(refined_single_newline_split(text)) - 1 == len(labels):\n",
    "\n",
    "            # Process paragraphs and extract features\n",
    "            processed_data = process_paragraph_with_embeddings(text, labels)\n",
    "            all_data.append(processed_data)\n",
    "            \n",
    "            # Extract features and labels\n",
    "            features = processed_data.drop(columns=['label', 'paragraph_1', 'paragraph_2']).to_numpy()\n",
    "            labels = processed_data['label'].to_numpy()\n",
    "\n",
    "            all_features.append(features)\n",
    "            all_labels.append(labels)\n",
    "\n",
    "    # Pad features and labels\n",
    "    padded_features = pad_sequences(all_features, dtype='float32', padding='post', value=0.0)\n",
    "    padded_labels = pad_sequences(all_labels, dtype='int32', padding='post', value=-1)\n",
    "\n",
    "    # Convert to tensors (PyTorch example)\n",
    "    feature_tensor = torch.tensor(padded_features, dtype=torch.float32)\n",
    "    label_tensor = torch.tensor(padded_labels, dtype=torch.int64)\n",
    "\n",
    "    consolidated_data = pd.concat(all_data, ignore_index=True)\n",
    "\n",
    "    return feature_tensor, label_tensor, consolidated_data"
   ]
  },
  {
   "cell_type": "code",
   "execution_count": 39,
   "metadata": {},
   "outputs": [
    {
     "name": "stderr",
     "output_type": "stream",
     "text": [
      "[nltk_data] Downloading package stopwords to\n",
      "[nltk_data]     /Users/reolingovender/nltk_data...\n",
      "[nltk_data]   Package stopwords is already up-to-date!\n",
      "[nltk_data] Downloading package punkt to\n",
      "[nltk_data]     /Users/reolingovender/nltk_data...\n",
      "[nltk_data]   Package punkt is already up-to-date!\n",
      "[nltk_data] Downloading package averaged_perceptron_tagger to\n",
      "[nltk_data]     /Users/reolingovender/nltk_data...\n",
      "[nltk_data]   Package averaged_perceptron_tagger is already up-to-\n",
      "[nltk_data]       date!\n"
     ]
    }
   ],
   "source": [
    "import os\n",
    "import json\n",
    "import spacy\n",
    "import nltk\n",
    "from nltk.corpus import stopwords\n",
    "from nltk.sentiment import SentimentIntensityAnalyzer\n",
    "from nltk.tokenize import sent_tokenize, word_tokenize\n",
    "from sklearn.feature_extraction.text import TfidfVectorizer\n",
    "from sklearn.metrics.pairwise import cosine_similarity\n",
    "from collections import Counter\n",
    "import numpy as np\n",
    "import pandas as pd\n",
    "import math\n",
    "\n",
    "# Load Spacy's pretrained English model with 'ner'\n",
    "nlp = spacy.load(\"en_core_web_sm\")\n",
    "\n",
    "# Initialize NLTK resources\n",
    "nltk.download('stopwords')\n",
    "nltk.download('punkt')\n",
    "nltk.download('averaged_perceptron_tagger')\n",
    "\n",
    "# Initialize Sentiment Intensity Analyzer\n",
    "sentiment_analyzer = SentimentIntensityAnalyzer()\n",
    "\n",
    "def is_valid_text(text):\n",
    "    \"\"\"\n",
    "    Check if the text is valid (not empty and contains meaningful words).\n",
    "    \"\"\"\n",
    "    stop_words = set(stopwords.words('english'))\n",
    "    tokens = set(word_tokenize(text.lower()))\n",
    "    meaningful_words = tokens - stop_words\n",
    "    return bool(text.strip()) and bool(meaningful_words)\n",
    "\n",
    "# Additional Helper Functions\n",
    "def extract_named_entities(paragraph):\n",
    "    \"\"\"\n",
    "    Extract named entities from a paragraph using Spacy's NER.\n",
    "    \"\"\"\n",
    "    doc = nlp(paragraph)\n",
    "    named_entities = {ent.text for ent in doc.ents}\n",
    "    return named_entities\n",
    "\n",
    "def compute_jaccard_similarity(para1, para2):\n",
    "    \"\"\"\n",
    "    Compute the Jaccard similarity between unique words in two paragraphs.\n",
    "    \"\"\"\n",
    "    words1, words2 = set(para1.split()), set(para2.split())\n",
    "    intersection = words1.intersection(words2)\n",
    "    union = words1.union(words2)\n",
    "    return len(intersection) / len(union) if union else 0\n",
    "\n",
    "def compute_tfidf_cosine_similarity(para1, para2):\n",
    "    \"\"\"\n",
    "    Compute TF-IDF cosine similarity between two paragraphs with error handling.\n",
    "    \"\"\"\n",
    "    para1 = preprocess_text(para1)\n",
    "    para2 = preprocess_text(para2)\n",
    "\n",
    "    if not is_valid_text(para1) or not is_valid_text(para2):\n",
    "        print(\"One or both paragraphs are invalid for TF-IDF computation.\")\n",
    "        return 0  # Default similarity score for invalid input\n",
    "\n",
    "    try:\n",
    "        vectorizer = TfidfVectorizer(stop_words='english')\n",
    "        tfidf_matrix = vectorizer.fit_transform([para1, para2])\n",
    "        return cosine_similarity(tfidf_matrix[0:1], tfidf_matrix[1:2])[0][0]\n",
    "    except ValueError as e:\n",
    "        if 'empty vocabulary' in str(e):\n",
    "            print(f\"Skipping TF-IDF computation: {e}\")\n",
    "            return 0  # Default similarity for empty vocabulary\n",
    "\n",
    "def compute_stopword_density(paragraph):\n",
    "    \"\"\"\n",
    "    Compute the density of stopwords in a paragraph.\n",
    "    \"\"\"\n",
    "    stop_words = set(stopwords.words('english'))\n",
    "    words = word_tokenize(paragraph)\n",
    "    stopword_count = sum(1 for word in words if word.lower() in stop_words)\n",
    "    return stopword_count / len(words) if words else 0\n",
    "\n",
    "def compute_sentiment_polarity(paragraph):\n",
    "    \"\"\"\n",
    "    Compute the sentiment polarity score of a paragraph using VADER.\n",
    "    \"\"\"\n",
    "    return sentiment_analyzer.polarity_scores(paragraph)['compound']\n",
    "\n",
    "def preprocess_text(text):\n",
    "    tokens = word_tokenize(text.lower())\n",
    "    tokens = [token for token in tokens if token.isalnum()]  # Remove punctuation and non-alphanumeric tokens\n",
    "    return ' '.join(tokens)\n",
    "\n",
    "def extract_advanced_features_with_embeddings(paragraph, embedding_model):\n",
    "    \"\"\"\n",
    "    Enhanced feature extraction for advanced metrics, including semantic shift.\n",
    "    \"\"\"\n",
    "    # Tokenize paragraph into sentences\n",
    "    sentences = [sent for sent in sent_tokenize(paragraph) if is_valid_text(sent)]  # Filter valid sentences\n",
    "    if not sentences:\n",
    "        return {\n",
    "            'max_cosine_sim': 0,\n",
    "            'rare_word_ratio': 0,\n",
    "            'entropy': 0,\n",
    "            'semantic_shift': 0,\n",
    "            'embedding': embedding_model.encode(paragraph) if paragraph.strip() else np.zeros(embedding_model.get_sentence_embedding_dimension()),\n",
    "        }\n",
    "\n",
    "    # Tokenize paragraph into words\n",
    "    words = paragraph.split()\n",
    "    unique_words = set(words)\n",
    "\n",
    "    # Compute embedding for the entire paragraph\n",
    "    embedding = embedding_model.encode(paragraph)\n",
    "\n",
    "    # Cosine similarity (bag-of-words)\n",
    "    try:\n",
    "        tfidf_vectorizer = TfidfVectorizer(stop_words='english')\n",
    "        tfidf_matrix = tfidf_vectorizer.fit_transform(sentences)\n",
    "        max_cosine_sim = 0\n",
    "        for i in range(len(sentences) - 1):\n",
    "            sim = cosine_similarity(tfidf_matrix[i], tfidf_matrix[i + 1])\n",
    "            max_cosine_sim = max(max_cosine_sim, sim[0][0])\n",
    "    except ValueError as e:\n",
    "        if 'empty vocabulary' in str(e):\n",
    "            print(f\"Skipping TF-IDF computation: {e}\")\n",
    "            max_cosine_sim = 0\n",
    "\n",
    "    # Rare word ratio\n",
    "    rare_word_threshold = 0.01\n",
    "    word_counts = Counter(words)\n",
    "    rare_words = [word for word, count in word_counts.items() if count / len(words) < rare_word_threshold]\n",
    "    rare_word_ratio = len(rare_words) / len(words) if words else 0\n",
    "\n",
    "    # Entropy\n",
    "    word_probs = [count / len(words) for count in word_counts.values()]\n",
    "    entropy = -sum(p * math.log(p) for p in word_probs) if word_probs else 0\n",
    "\n",
    "    # Semantic shift across sentences\n",
    "    try:\n",
    "        sentence_embeddings = embedding_model.encode(sentences) if sentences else [embedding]\n",
    "        semantic_shift = (\n",
    "            np.mean(\n",
    "                [\n",
    "                    cosine_similarity([sentence_embeddings[i]], [sentence_embeddings[i + 1]])[0][0]\n",
    "                    for i in range(len(sentence_embeddings) - 1)\n",
    "                ]\n",
    "            )\n",
    "            if len(sentence_embeddings) > 1\n",
    "            else 0\n",
    "        )\n",
    "    except Exception as e:\n",
    "        print(f\"Error computing semantic shift: {e}\")\n",
    "        semantic_shift = 0\n",
    "\n",
    "    return {\n",
    "        'max_cosine_sim': max_cosine_sim,\n",
    "        'rare_word_ratio': rare_word_ratio,\n",
    "        'entropy': entropy,\n",
    "        'semantic_shift': semantic_shift,\n",
    "        'embedding': embedding,\n",
    "    }\n",
    "\n",
    "def process_paragraph_with_embeddings_advanced(text, labels):\n",
    "    \"\"\"\n",
    "    Processes text and labels into paragraph-level feature comparisons, including advanced metrics.\n",
    "    \"\"\"\n",
    "    paragraphs = refined_single_newline_split(text)\n",
    "    paragraphs = [preprocess_text(p) for p in paragraphs if is_valid_text(p)]  # Preprocess and validate\n",
    "    if not paragraphs:\n",
    "        raise ValueError(\"No valid paragraphs after preprocessing.\")\n",
    "\n",
    "    data = []\n",
    "    for i in range(len(paragraphs) - 1):\n",
    "        para1 = paragraphs[i]\n",
    "        para2 = paragraphs[i + 1]\n",
    "        label = labels[i]\n",
    "\n",
    "        # Extract features for both paragraphs\n",
    "        para1_features = {\n",
    "            **extract_advanced_features_with_embeddings(para1, embedding_model),\n",
    "        }\n",
    "        para2_features = {\n",
    "            **extract_advanced_features_with_embeddings(para2, embedding_model),\n",
    "        }\n",
    "\n",
    "        # Compute feature differences\n",
    "        comparison_features = compare_full_paragraphs_enhanced(para1_features, para2_features, para1, para2)\n",
    "        comparison_features['label'] = label\n",
    "        comparison_features['paragraph_1'] = para1\n",
    "        comparison_features['paragraph_2'] = para2\n",
    "        data.append(comparison_features)\n",
    "\n",
    "    return pd.DataFrame(data)\n"
   ]
  },
  {
   "cell_type": "code",
   "execution_count": 40,
   "metadata": {},
   "outputs": [],
   "source": [
    "import os\n",
    "from tensorflow.keras.preprocessing.sequence import pad_sequences\n",
    "import torch\n",
    "\n",
    "def prepare_data_for_bilstm_from_directory(text_dir, label_dir):\n",
    "    \"\"\"\n",
    "    Prepares input data for BiLSTM from all files in specified directories.\n",
    "    :param text_dir: Directory containing text files.\n",
    "    :param label_dir: Directory containing label JSON files.\n",
    "    :return: Padded feature and label tensors.\n",
    "    \"\"\"\n",
    "    all_features = []\n",
    "    all_labels = []\n",
    "\n",
    "    # Pair text and label files\n",
    "    text_files = sorted([f for f in os.listdir(text_dir) if f.endswith(\".txt\")])\n",
    "    label_files = sorted([f for f in os.listdir(label_dir) if f.endswith(\".json\")])\n",
    "\n",
    "    if len(text_files) != len(label_files):\n",
    "        raise ValueError(\"Mismatch between number of text files and label files!\")\n",
    "\n",
    "    documents = [(os.path.join(text_dir, t), os.path.join(label_dir, l)) for t, l in zip(text_files, label_files)]\n",
    "    all_data = []\n",
    "\n",
    "    for text_path, label_path in documents:\n",
    "        # Load text and labels\n",
    "        with open(text_path, 'r') as tf:\n",
    "            text = tf.read()\n",
    "        with open(label_path, 'r') as lf:\n",
    "            labels = json.load(lf)[\"changes\"]\n",
    "\n",
    "        if len(refined_single_newline_split(text)) - 1 == len(labels):\n",
    "\n",
    "            # Process paragraphs and extract features\n",
    "            processed_data = process_paragraph_with_embeddings_advanced(text, labels)\n",
    "            all_data.append(processed_data)\n",
    "            \n",
    "            # Extract features and labels\n",
    "            features = processed_data.drop(columns=['label', 'paragraph_1', 'paragraph_2']).to_numpy()\n",
    "            labels = processed_data['label'].to_numpy()\n",
    "\n",
    "            all_features.append(features)\n",
    "            all_labels.append(labels)\n",
    "\n",
    "    # Pad features and labels\n",
    "    padded_features = pad_sequences(all_features, dtype='float32', padding='post', value=0.0)\n",
    "    padded_labels = pad_sequences(all_labels, dtype='int32', padding='post', value=-1)\n",
    "\n",
    "    # Convert to tensors (PyTorch example)\n",
    "    feature_tensor = torch.tensor(padded_features, dtype=torch.float32)\n",
    "    label_tensor = torch.tensor(padded_labels, dtype=torch.int64)\n",
    "\n",
    "    consolidated_data = pd.concat(all_data, ignore_index=True)\n",
    "\n",
    "    return feature_tensor, label_tensor, consolidated_data"
   ]
  },
  {
   "cell_type": "markdown",
   "metadata": {},
   "source": [
    "## Creating Features"
   ]
  },
  {
   "cell_type": "code",
   "execution_count": 125,
   "metadata": {},
   "outputs": [],
   "source": [
    "data_set_number = 3"
   ]
  },
  {
   "cell_type": "code",
   "execution_count": 126,
   "metadata": {},
   "outputs": [
    {
     "name": "stdout",
     "output_type": "stream",
     "text": [
      "Feature tensor shape: torch.Size([4198, 20, 9])\n",
      "Label tensor shape: torch.Size([4198, 20, 9])\n"
     ]
    }
   ],
   "source": [
    "# Training\n",
    "text_dir_train = f\"/Users/reolingovender/Downloads/release/pan23-multi-author-analysis-dataset{data_set_number}/pan23-multi-author-analysis-dataset{data_set_number}-train/\"\n",
    "label_dir_train = f\"/Users/reolingovender/Downloads/release/pan23-multi-author-analysis-dataset{data_set_number}/pan23-multi-author-analysis-dataset{data_set_number}-train/\"\n",
    "\n",
    "X_train, y_train, df_features_train = prepare_data_for_bilstm_from_directory(text_dir_train, label_dir_train)\n",
    "print(\"Feature tensor shape:\", X_train.shape)\n",
    "print(\"Label tensor shape:\", X_train.shape)"
   ]
  },
  {
   "cell_type": "code",
   "execution_count": 127,
   "metadata": {},
   "outputs": [],
   "source": [
    "# Save the tensor\n",
    "torch.save(X_train, f\"X_train_tensor_{data_set_number}.pt\")\n",
    "torch.save(y_train, f\"y_train_tensor_{data_set_number}.pt\")\n",
    "df_features_train.to_excel(f'df_features_train_{data_set_number}.xlsx')"
   ]
  },
  {
   "cell_type": "code",
   "execution_count": 128,
   "metadata": {},
   "outputs": [
    {
     "name": "stdout",
     "output_type": "stream",
     "text": [
      "One or both paragraphs are invalid for TF-IDF computation.\n",
      "Feature tensor shape: torch.Size([900, 22, 9])\n",
      "Label tensor shape: torch.Size([900, 22])\n"
     ]
    }
   ],
   "source": [
    "# Validation\n",
    "text_dir_validation = f\"/Users/reolingovender/Downloads/release/pan23-multi-author-analysis-dataset{data_set_number}/pan23-multi-author-analysis-dataset{data_set_number}-validation/\"\n",
    "label_dir_validation = f\"/Users/reolingovender/Downloads/release/pan23-multi-author-analysis-dataset{data_set_number}/pan23-multi-author-analysis-dataset{data_set_number}-validation/\"\n",
    "\n",
    "X_validation, y_validation, df_features_validation = prepare_data_for_bilstm_from_directory(text_dir_validation, label_dir_validation)\n",
    "print(\"Feature tensor shape:\", X_validation.shape)\n",
    "print(\"Label tensor shape:\", y_validation.shape)"
   ]
  },
  {
   "cell_type": "code",
   "execution_count": 129,
   "metadata": {},
   "outputs": [],
   "source": [
    "# Save the tensor\n",
    "torch.save(X_validation, f\"X_validation_tensor_{data_set_number}.pt\")\n",
    "torch.save(y_validation, f\"y_validation_tensor_{data_set_number}.pt\")\n",
    "df_features_validation.to_excel(f'df_features_validation_{data_set_number}.xlsx')"
   ]
  },
  {
   "cell_type": "code",
   "execution_count": null,
   "metadata": {},
   "outputs": [
    {
     "name": "stderr",
     "output_type": "stream",
     "text": [
      "/var/folders/4p/fm0xjwjs36q50hz65y724w840000gn/T/ipykernel_38305/3952783358.py:3: FutureWarning: You are using `torch.load` with `weights_only=False` (the current default value), which uses the default pickle module implicitly. It is possible to construct malicious pickle data which will execute arbitrary code during unpickling (See https://github.com/pytorch/pytorch/blob/main/SECURITY.md#untrusted-models for more details). In a future release, the default value for `weights_only` will be flipped to `True`. This limits the functions that could be executed during unpickling. Arbitrary objects will no longer be allowed to be loaded via this mode unless they are explicitly allowlisted by the user via `torch.serialization.add_safe_globals`. We recommend you start setting `weights_only=True` for any use case where you don't have full control of the loaded file. Please open an issue on GitHub for any issues related to this experimental feature.\n",
      "  loaded_tensor = torch.load(f\"X_validation_tensor_{data_set_number}.pt\")\n"
     ]
    }
   ],
   "source": [
    "# Load the tensor\n",
    "# loaded_tensor = torch.load(f\"X_validation_tensor_{data_set_number}.pt\")"
   ]
  },
  {
   "cell_type": "code",
   "execution_count": 130,
   "metadata": {},
   "outputs": [],
   "source": [
    "from torch.utils.data import Dataset, DataLoader, random_split\n",
    "import torch.optim as optim\n",
    "\n",
    "class ParagraphDataset(Dataset):\n",
    "    def __init__(self, features, labels):\n",
    "        self.features = features\n",
    "        self.labels = labels\n",
    "\n",
    "    def __len__(self):\n",
    "        return self.features.size(0)\n",
    "\n",
    "    def __getitem__(self, idx):\n",
    "        return self.features[idx], self.labels[idx]\n",
    "\n",
    "# Create dataset and data loader\n",
    "train_dataset = ParagraphDataset(X_train, y_train)\n",
    "val_dataset = ParagraphDataset(X_validation, y_validation)\n",
    "\n",
    "# Create DataLoaders\n",
    "train_loader = DataLoader(train_dataset, batch_size=16, shuffle=True)\n",
    "val_loader = DataLoader(val_dataset, batch_size=16, shuffle=False)"
   ]
  },
  {
   "cell_type": "markdown",
   "metadata": {},
   "source": [
    "## Basic BiLSTM"
   ]
  },
  {
   "cell_type": "code",
   "execution_count": 131,
   "metadata": {},
   "outputs": [],
   "source": [
    "import torch\n",
    "import torch.nn as nn\n",
    "\n",
    "class BiLSTM(nn.Module):\n",
    "    def __init__(self, input_dim, hidden_dim, output_dim, num_layers=1, dropout=0.2):\n",
    "        super(BiLSTM, self).__init__()\n",
    "        self.lstm = nn.LSTM(\n",
    "            input_size=input_dim,\n",
    "            hidden_size=hidden_dim,\n",
    "            num_layers=num_layers,\n",
    "            bidirectional=True,\n",
    "            batch_first=True,\n",
    "            dropout=dropout\n",
    "        )\n",
    "        self.fc = nn.Linear(hidden_dim * 2, output_dim)  # Multiply by 2 for bidirectional\n",
    "        self.softmax = nn.LogSoftmax(dim=-1)  # For classification\n",
    "\n",
    "    def forward(self, x):\n",
    "        lstm_out, _ = self.lstm(x)\n",
    "        output = self.fc(lstm_out)\n",
    "        return self.softmax(output)\n"
   ]
  },
  {
   "cell_type": "code",
   "execution_count": 132,
   "metadata": {},
   "outputs": [
    {
     "name": "stderr",
     "output_type": "stream",
     "text": [
      "/Users/reolingovender/Library/Python/3.9/lib/python/site-packages/torch/nn/modules/rnn.py:123: UserWarning: dropout option adds dropout after all but last recurrent layer, so non-zero dropout expects num_layers greater than 1, but got dropout=0.2 and num_layers=1\n",
      "  warnings.warn(\n"
     ]
    },
    {
     "name": "stdout",
     "output_type": "stream",
     "text": [
      "Epoch 1/10, Training Loss: 0.6776\n",
      "Epoch 2/10, Training Loss: 0.6545\n",
      "Epoch 3/10, Training Loss: 0.6492\n",
      "Epoch 4/10, Training Loss: 0.6481\n",
      "Epoch 5/10, Training Loss: 0.6474\n",
      "Epoch 6/10, Training Loss: 0.6459\n",
      "Epoch 7/10, Training Loss: 0.6450\n",
      "Epoch 8/10, Training Loss: 0.6442\n",
      "Epoch 9/10, Training Loss: 0.6430\n",
      "Epoch 10/10, Training Loss: 0.6422\n"
     ]
    }
   ],
   "source": [
    "# Model parameters\n",
    "input_dim = X_train.shape[2]\n",
    "hidden_dim = 128\n",
    "output_dim = 2\n",
    "\n",
    "# Initialize model, loss function, and optimizer\n",
    "model = BiLSTM(input_dim, hidden_dim, output_dim)\n",
    "criterion = nn.CrossEntropyLoss(ignore_index=-1)\n",
    "optimizer = optim.Adam(model.parameters(), lr=0.001)\n",
    "\n",
    "# Training loop with validation\n",
    "num_epochs = 10\n",
    "for epoch in range(num_epochs):\n",
    "    model.train()\n",
    "    epoch_loss = 0\n",
    "\n",
    "    # Training phase\n",
    "    for batch_features, batch_labels in train_loader:\n",
    "        optimizer.zero_grad()\n",
    "        \n",
    "        # Forward pass\n",
    "        outputs = model(batch_features)\n",
    "        outputs = outputs.view(-1, output_dim)\n",
    "        batch_labels = batch_labels.view(-1)\n",
    "\n",
    "        # Compute loss\n",
    "        loss = criterion(outputs, batch_labels)\n",
    "        loss.backward()\n",
    "        optimizer.step()\n",
    "        epoch_loss += loss.item()\n",
    "\n",
    "    print(f\"Epoch {epoch + 1}/{num_epochs}, Training Loss: {epoch_loss / len(train_loader):.4f}\")"
   ]
  },
  {
   "cell_type": "code",
   "execution_count": 133,
   "metadata": {},
   "outputs": [
    {
     "name": "stdout",
     "output_type": "stream",
     "text": [
      "Epoch 10/10, Validation Accuracy: 0.6196\n"
     ]
    }
   ],
   "source": [
    "# Validation phase\n",
    "model.eval()\n",
    "total, correct = 0, 0\n",
    "with torch.no_grad():\n",
    "    for batch_features, batch_labels in val_loader:\n",
    "        outputs = model(batch_features)\n",
    "        predictions = torch.argmax(outputs, dim=-1)\n",
    "\n",
    "        mask = batch_labels != -1\n",
    "        total += mask.sum().item()\n",
    "        correct += (predictions[mask] == batch_labels[mask]).sum().item()\n",
    "\n",
    "val_accuracy = correct / total if total > 0 else 0\n",
    "print(f\"Epoch {epoch + 1}/{num_epochs}, Validation Accuracy: {val_accuracy:.4f}\")"
   ]
  },
  {
   "cell_type": "code",
   "execution_count": 134,
   "metadata": {},
   "outputs": [
    {
     "name": "stdout",
     "output_type": "stream",
     "text": [
      "Validation Loss: 0.6439\n",
      "Validation Accuracy: 0.6367\n",
      "Precision: 0.6355, Recall: 0.6070, F1-Score: 0.5998\n"
     ]
    }
   ],
   "source": [
    "# Initialize validation loss and counters\n",
    "val_loss = 0.0  # Add this line to initialize val_loss\n",
    "correct = 0\n",
    "total = 0\n",
    "\n",
    "# Initialize containers for storing predictions and labels\n",
    "all_predictions = []\n",
    "all_true_labels = []\n",
    "\n",
    "with torch.no_grad():\n",
    "    for batch_features, batch_labels in val_loader:\n",
    "        # Forward pass\n",
    "        outputs = model(batch_features)  # Shape: (batch_size, seq_len, num_classes)\n",
    "\n",
    "        # Pool the outputs for sequence classification (use the first token)\n",
    "        pooled_outputs = outputs[:, 0, :]  # Shape: (batch_size, num_classes)\n",
    "\n",
    "        # Use only the first token's label for sequence-level classification\n",
    "        batch_labels = batch_labels[:, 0]  # Shape: (batch_size)\n",
    "\n",
    "        # Ensure batch_labels are integers representing class indices\n",
    "        batch_labels = batch_labels.long()  # Convert to integer type if needed\n",
    "\n",
    "        # Compute loss\n",
    "        loss = criterion(pooled_outputs, batch_labels)\n",
    "        val_loss += loss.item()  # Accumulate the loss\n",
    "\n",
    "        # Compute predictions\n",
    "        predictions = torch.argmax(pooled_outputs, dim=1)  # Shape: (batch_size)\n",
    "        correct += (predictions == batch_labels).sum().item()\n",
    "        total += batch_labels.size(0)\n",
    "\n",
    "        # Collect predictions and labels for additional metrics\n",
    "        all_predictions.extend(predictions.cpu().numpy())\n",
    "        all_true_labels.extend(batch_labels.cpu().numpy())\n",
    "\n",
    "# Calculate metrics\n",
    "val_accuracy = correct / total if total > 0 else 0\n",
    "precision = precision_score(all_true_labels, all_predictions, average='macro')\n",
    "recall = recall_score(all_true_labels, all_predictions, average='macro')\n",
    "f1 = f1_score(all_true_labels, all_predictions, average='macro')\n",
    "\n",
    "# Print validation results\n",
    "print(f\"Validation Loss: {val_loss / len(val_loader):.4f}\")\n",
    "print(f\"Validation Accuracy: {val_accuracy:.4f}\")\n",
    "print(f\"Precision: {precision:.4f}, Recall: {recall:.4f}, F1-Score: {f1:.4f}\")\n"
   ]
  },
  {
   "cell_type": "markdown",
   "metadata": {},
   "source": [
    "## BiLSTM With Attention"
   ]
  },
  {
   "cell_type": "code",
   "execution_count": 135,
   "metadata": {},
   "outputs": [],
   "source": [
    "import torch\n",
    "import torch.nn as nn\n",
    "\n",
    "class BiLSTMWithAttention(nn.Module):\n",
    "    def __init__(self, input_dim, hidden_dim, output_dim, num_layers=1, dropout=0.2):\n",
    "        super(BiLSTMWithAttention, self).__init__()\n",
    "        self.lstm = nn.LSTM(\n",
    "            input_size=input_dim,\n",
    "            hidden_size=hidden_dim,\n",
    "            num_layers=num_layers,\n",
    "            bidirectional=True,\n",
    "            batch_first=True,\n",
    "            dropout=dropout\n",
    "        )\n",
    "        self.attention = nn.Linear(hidden_dim * 2, 1)  # Compute attention scores\n",
    "        self.fc = nn.Linear(hidden_dim * 2, output_dim)  # Final classification layer\n",
    "        self.softmax = nn.LogSoftmax(dim=-1)  # Log-SoftMax for output probabilities\n",
    "\n",
    "    def forward(self, x):\n",
    "        # Pass input through BiLSTM\n",
    "        lstm_out, _ = self.lstm(x)  # lstm_out: (batch_size, seq_len, hidden_dim * 2)\n",
    "        \n",
    "        # Compute attention scores\n",
    "        attention_scores = self.attention(lstm_out)  # (batch_size, seq_len, 1)\n",
    "        \n",
    "        # Normalize attention scores to get weights\n",
    "        attention_weights = torch.softmax(attention_scores, dim=1)  # (batch_size, seq_len, 1)\n",
    "        \n",
    "        # Compute context vector as weighted sum of LSTM outputs\n",
    "        context_vector = torch.sum(attention_weights * lstm_out, dim=1)  # (batch_size, hidden_dim * 2)\n",
    "        \n",
    "        # Pass context vector through classification layer\n",
    "        output = self.fc(context_vector)  # (batch_size, output_dim)\n",
    "        \n",
    "        return self.softmax(output)"
   ]
  },
  {
   "cell_type": "code",
   "execution_count": 136,
   "metadata": {},
   "outputs": [
    {
     "name": "stderr",
     "output_type": "stream",
     "text": [
      "/Users/reolingovender/Library/Python/3.9/lib/python/site-packages/torch/nn/modules/rnn.py:123: UserWarning: dropout option adds dropout after all but last recurrent layer, so non-zero dropout expects num_layers greater than 1, but got dropout=0.2 and num_layers=1\n",
      "  warnings.warn(\n"
     ]
    },
    {
     "name": "stdout",
     "output_type": "stream",
     "text": [
      "Epoch 1/10, Training Loss: 0.6815\n",
      "Epoch 2/10, Training Loss: 0.6806\n",
      "Epoch 3/10, Training Loss: 0.6802\n",
      "Epoch 4/10, Training Loss: 0.6804\n",
      "Epoch 5/10, Training Loss: 0.6794\n",
      "Epoch 6/10, Training Loss: 0.6754\n",
      "Epoch 7/10, Training Loss: 0.6598\n",
      "Epoch 8/10, Training Loss: 0.6463\n",
      "Epoch 9/10, Training Loss: 0.6392\n",
      "Epoch 10/10, Training Loss: 0.6367\n"
     ]
    }
   ],
   "source": [
    "# Model hyperparameters\n",
    "input_dim = X_train.shape[2]  # Number of features\n",
    "hidden_dim = 64  # Hidden size of LSTM\n",
    "output_dim = 2   # Number of classes (binary classification)\n",
    "\n",
    "# Initialize the model\n",
    "model = BiLSTMWithAttention(input_dim, hidden_dim, output_dim)\n",
    "criterion = nn.CrossEntropyLoss(ignore_index=-1)  # Handle padding labels\n",
    "optimizer = torch.optim.Adam(model.parameters(), lr=0.001)\n",
    "\n",
    "# Training loop with validation\n",
    "epochs = 10\n",
    "for epoch in range(epochs):\n",
    "    model.train()  # Set model to training mode\n",
    "    epoch_loss = 0\n",
    "\n",
    "    # Training phase\n",
    "    for batch_features, batch_labels in train_loader:\n",
    "        batch_labels = batch_labels[:, 0]  # Use only the first label for sequence classification\n",
    "\n",
    "        # Forward pass\n",
    "        outputs = model(batch_features)  # Shape: (batch_size, num_classes)\n",
    "\n",
    "        # Compute loss\n",
    "        loss = criterion(outputs, batch_labels)\n",
    "\n",
    "        # Backward pass and optimization\n",
    "        optimizer.zero_grad()\n",
    "        loss.backward()\n",
    "        optimizer.step()\n",
    "\n",
    "        epoch_loss += loss.item()\n",
    "\n",
    "    print(f\"Epoch {epoch + 1}/{epochs}, Training Loss: {epoch_loss / len(train_loader):.4f}\")\n"
   ]
  },
  {
   "cell_type": "code",
   "execution_count": 137,
   "metadata": {},
   "outputs": [
    {
     "name": "stdout",
     "output_type": "stream",
     "text": [
      "Epoch 10/10, Validation Loss: 0.6369, Validation Accuracy: 0.6356\n"
     ]
    }
   ],
   "source": [
    "# Validation phase\n",
    "model.eval()  # Set model to evaluation mode\n",
    "total, correct = 0, 0\n",
    "val_loss = 0\n",
    "\n",
    "with torch.no_grad():\n",
    "    for batch_features, batch_labels in val_loader:\n",
    "        batch_labels = batch_labels[:, 0]  # Use only the first label for sequence classification\n",
    "\n",
    "        # Forward pass\n",
    "        outputs = model(batch_features)\n",
    "\n",
    "        # Compute loss\n",
    "        loss = criterion(outputs, batch_labels)\n",
    "        val_loss += loss.item()\n",
    "\n",
    "        # Compute accuracy\n",
    "        predictions = torch.argmax(outputs, dim=1)  # Get predicted class indices\n",
    "        correct += (predictions == batch_labels).sum().item()\n",
    "        total += batch_labels.size(0)\n",
    "\n",
    "val_accuracy = correct / total if total > 0 else 0\n",
    "print(f\"Epoch {epoch + 1}/{epochs}, Validation Loss: {val_loss / len(val_loader):.4f}, Validation Accuracy: {val_accuracy:.4f}\")"
   ]
  },
  {
   "cell_type": "code",
   "execution_count": 138,
   "metadata": {},
   "outputs": [
    {
     "name": "stdout",
     "output_type": "stream",
     "text": [
      "Validation Loss: 1.2738\n",
      "Validation Accuracy: 0.6356\n",
      "Precision: 0.6317, Recall: 0.6081, F1-Score: 0.6029\n"
     ]
    }
   ],
   "source": [
    "# Initialize containers for storing predictions and labels\n",
    "all_predictions = []\n",
    "all_true_labels = []\n",
    "\n",
    "with torch.no_grad():\n",
    "    for batch_features, batch_labels in val_loader:\n",
    "        # Forward pass\n",
    "        outputs = model(batch_features)  # Shape depends on the model\n",
    "\n",
    "        # Pool the outputs for sequence classification\n",
    "        if len(outputs.shape) == 2:  # Shape: (batch_size, num_classes)\n",
    "            pooled_outputs = outputs  # Directly use the logits\n",
    "        elif len(outputs.shape) == 3:  # Shape: (batch_size, seq_len, num_classes)\n",
    "            pooled_outputs = outputs[:, 0, :]  # Use the first token's output\n",
    "        else:\n",
    "            raise ValueError(f\"Unexpected shape of outputs: {outputs.shape}\")\n",
    "        \n",
    "        batch_labels = batch_labels[:, 0]  # Use only the first label for sequence classification\n",
    "\n",
    "        # Convert labels to integers if needed\n",
    "        batch_labels = batch_labels.long()\n",
    "\n",
    "        # Compute loss\n",
    "        loss = criterion(pooled_outputs, batch_labels)\n",
    "        val_loss += loss.item()\n",
    "\n",
    "        # Compute predictions\n",
    "        predictions = torch.argmax(pooled_outputs, dim=1)\n",
    "        correct += (predictions == batch_labels).sum().item()\n",
    "        total += batch_labels.size(0)\n",
    "\n",
    "        # Collect predictions and labels for additional metrics\n",
    "        all_predictions.extend(predictions.cpu().numpy())\n",
    "        all_true_labels.extend(batch_labels.cpu().numpy())\n",
    "\n",
    "# Calculate metrics\n",
    "val_accuracy = correct / total if total > 0 else 0\n",
    "precision = precision_score(all_true_labels, all_predictions, average=\"macro\")\n",
    "recall = recall_score(all_true_labels, all_predictions, average=\"macro\")\n",
    "f1 = f1_score(all_true_labels, all_predictions, average=\"macro\")\n",
    "\n",
    "# Print validation results\n",
    "print(f\"Validation Loss: {val_loss / len(val_loader):.4f}\")\n",
    "print(f\"Validation Accuracy: {val_accuracy:.4f}\")\n",
    "print(f\"Precision: {precision:.4f}, Recall: {recall:.4f}, F1-Score: {f1:.4f}\")\n"
   ]
  },
  {
   "cell_type": "markdown",
   "metadata": {},
   "source": [
    "## Further Enhanced BiLSTM WithAttention"
   ]
  },
  {
   "cell_type": "code",
   "execution_count": 139,
   "metadata": {},
   "outputs": [],
   "source": [
    "import torch\n",
    "import torch.nn as nn\n",
    "\n",
    "class FurtherEnhancedBiLSTMWithAttention(nn.Module):\n",
    "    def __init__(self, input_dim, hidden_dim, output_dim, num_layers=1, dropout=0.2):\n",
    "        super(FurtherEnhancedBiLSTMWithAttention, self).__init__()\n",
    "\n",
    "        # BiLSTM Layer\n",
    "        self.lstm = nn.LSTM(\n",
    "            input_size=input_dim,\n",
    "            hidden_size=hidden_dim,\n",
    "            num_layers=num_layers,\n",
    "            bidirectional=True,\n",
    "            batch_first=True,\n",
    "            dropout=dropout\n",
    "        )\n",
    "\n",
    "        # Additive Attention Mechanism\n",
    "        self.attention = nn.Sequential(\n",
    "            nn.Linear(hidden_dim * 2, hidden_dim),  # Learnable projection\n",
    "            nn.Tanh(),                              # Non-linear activation\n",
    "            nn.Linear(hidden_dim, 1)               # Score for each timestep\n",
    "        )\n",
    "\n",
    "        # Fully Connected Layer\n",
    "        self.fc = nn.Linear(hidden_dim * 2, output_dim)  # Classification layer\n",
    "\n",
    "        # Dropout Layer\n",
    "        self.dropout = nn.Dropout(dropout)\n",
    "\n",
    "    def forward(self, x):\n",
    "        # LSTM Output\n",
    "        lstm_out, _ = self.lstm(x)  # lstm_out: (batch_size, seq_len, hidden_dim * 2)\n",
    "\n",
    "        # Compute Attention Scores\n",
    "        attention_scores = self.attention(lstm_out)  # (batch_size, seq_len, 1)\n",
    "        attention_weights = torch.softmax(attention_scores, dim=1)  # Normalize scores\n",
    "\n",
    "        # Compute Context Vector (Weighted Sum of LSTM Outputs)\n",
    "        context_vector = torch.sum(attention_weights * lstm_out, dim=1)  # (batch_size, hidden_dim * 2)\n",
    "\n",
    "        # Dropout for Regularization\n",
    "        context_vector = self.dropout(context_vector)\n",
    "\n",
    "        # Fully Connected Layer for Classification\n",
    "        output = self.fc(context_vector)  # (batch_size, output_dim)\n",
    "\n",
    "        return output  # Raw logits"
   ]
  },
  {
   "cell_type": "code",
   "execution_count": 140,
   "metadata": {},
   "outputs": [
    {
     "name": "stdout",
     "output_type": "stream",
     "text": [
      "Epoch 1/10, Training Loss: 0.6824\n",
      "Epoch 2/10, Training Loss: 0.6812\n",
      "Epoch 3/10, Training Loss: 0.6812\n",
      "Epoch 4/10, Training Loss: 0.6814\n",
      "Epoch 5/10, Training Loss: 0.6802\n",
      "Epoch 6/10, Training Loss: 0.6814\n",
      "Epoch 7/10, Training Loss: 0.6682\n",
      "Epoch 8/10, Training Loss: 0.6537\n",
      "Epoch 9/10, Training Loss: 0.6437\n",
      "Epoch 10/10, Training Loss: 0.6403\n"
     ]
    }
   ],
   "source": [
    "# Model hyperparameters\n",
    "input_dim = X_train.shape[2]  # Number of features\n",
    "hidden_dim = 64  # Hidden size of LSTM\n",
    "output_dim = 2   # Number of classes (binary classification)\n",
    "num_layers = 2   # Number of LSTM layers\n",
    "dropout = 0.3    # Dropout rate\n",
    "\n",
    "# Initialize Model, Loss, and Optimizer\n",
    "model = FurtherEnhancedBiLSTMWithAttention(input_dim, hidden_dim, output_dim, num_layers, dropout)\n",
    "criterion = nn.CrossEntropyLoss()  # Automatically applies LogSoftmax\n",
    "optimizer = torch.optim.Adam(model.parameters(), lr=0.001)\n",
    "\n",
    "# Training Loop with Validation\n",
    "epochs = 10\n",
    "for epoch in range(epochs):\n",
    "    model.train()  # Set model to training mode\n",
    "    epoch_loss = 0\n",
    "\n",
    "    # Training phase\n",
    "    for batch_features, batch_labels in train_loader:\n",
    "        batch_labels = batch_labels[:, 0]  # Use only the first label for sequence classification\n",
    "\n",
    "        # Forward pass\n",
    "        outputs = model(batch_features)  # (batch_size, output_dim)\n",
    "        loss = criterion(outputs, batch_labels)  # Loss for this batch\n",
    "\n",
    "        # Backward pass\n",
    "        optimizer.zero_grad()\n",
    "        loss.backward()\n",
    "\n",
    "        # Gradient clipping to avoid exploding gradients\n",
    "        torch.nn.utils.clip_grad_norm_(model.parameters(), max_norm=1.0)\n",
    "\n",
    "        # Update parameters\n",
    "        optimizer.step()\n",
    "\n",
    "        # Track epoch loss\n",
    "        epoch_loss += loss.item()\n",
    "\n",
    "    print(f\"Epoch {epoch + 1}/{epochs}, Training Loss: {epoch_loss / len(train_loader):.4f}\")"
   ]
  },
  {
   "cell_type": "code",
   "execution_count": 141,
   "metadata": {},
   "outputs": [
    {
     "name": "stdout",
     "output_type": "stream",
     "text": [
      "Epoch 10/10, Validation Loss: 0.6392, Validation Accuracy: 0.6300\n"
     ]
    }
   ],
   "source": [
    "# Validation phase\n",
    "model.eval()  # Set model to evaluation mode\n",
    "total, correct = 0, 0\n",
    "val_loss = 0\n",
    "\n",
    "with torch.no_grad():\n",
    "    for batch_features, batch_labels in val_loader:\n",
    "        batch_labels = batch_labels[:, 0]  # Use only the first label for sequence classification\n",
    "\n",
    "        # Forward pass\n",
    "        outputs = model(batch_features)\n",
    "        loss = criterion(outputs, batch_labels)\n",
    "        val_loss += loss.item()\n",
    "\n",
    "        # Compute accuracy\n",
    "        predictions = torch.argmax(outputs, dim=1)  # Get predicted class indices\n",
    "        correct += (predictions == batch_labels).sum().item()\n",
    "        total += batch_labels.size(0)\n",
    "\n",
    "val_accuracy = correct / total if total > 0 else 0\n",
    "print(f\"Epoch {epoch + 1}/{epochs}, Validation Loss: {val_loss / len(val_loader):.4f}, Validation Accuracy: {val_accuracy:.4f}\")"
   ]
  },
  {
   "cell_type": "code",
   "execution_count": 142,
   "metadata": {},
   "outputs": [
    {
     "name": "stdout",
     "output_type": "stream",
     "text": [
      "Epoch 10/10, Validation Loss: 1.2783\n",
      "Validation Accuracy: 0.6300\n",
      "Precision: 0.6247, Recall: 0.6026, F1-Score: 0.5972\n"
     ]
    }
   ],
   "source": [
    "# Initialize containers for storing predictions and labels\n",
    "all_predictions = []\n",
    "all_true_labels = []\n",
    "\n",
    "with torch.no_grad():\n",
    "    for batch_features, batch_labels in val_loader:\n",
    "        batch_labels = batch_labels[:, 0]  # Use only the first label for sequence classification\n",
    "\n",
    "        # Forward pass\n",
    "        outputs = model(batch_features)\n",
    "\n",
    "        # Compute loss\n",
    "        loss = criterion(outputs, batch_labels)\n",
    "        val_loss += loss.item()\n",
    "\n",
    "        # Compute predictions\n",
    "        predictions = torch.argmax(outputs, dim=1)  # Get predicted class indices\n",
    "\n",
    "        # Store predictions and true labels\n",
    "        all_predictions.extend(predictions.cpu().numpy())\n",
    "        all_true_labels.extend(batch_labels.cpu().numpy())\n",
    "\n",
    "        correct += (predictions == batch_labels).sum().item()\n",
    "        total += batch_labels.size(0)\n",
    "\n",
    "# Calculate additional metrics\n",
    "val_accuracy = correct / total if total > 0 else 0\n",
    "precision = precision_score(all_true_labels, all_predictions, average='macro')\n",
    "recall = recall_score(all_true_labels, all_predictions, average='macro')\n",
    "f1 = f1_score(all_true_labels, all_predictions, average='macro')\n",
    "\n",
    "print(f\"Epoch {epoch + 1}/{epochs}, Validation Loss: {val_loss / len(val_loader):.4f}\")\n",
    "print(f\"Validation Accuracy: {val_accuracy:.4f}\")\n",
    "print(f\"Precision: {precision:.4f}, Recall: {recall:.4f}, F1-Score: {f1:.4f}\")\n"
   ]
  },
  {
   "cell_type": "markdown",
   "metadata": {},
   "source": [
    "## CNN "
   ]
  },
  {
   "cell_type": "code",
   "execution_count": null,
   "metadata": {},
   "outputs": [],
   "source": [
    "# class TextCNN(nn.Module):\n",
    "#     def __init__(self, input_dim, num_classes, filter_sizes, num_filters, dropout=0.5):\n",
    "#         super(TextCNN, self).__init__()\n",
    "        \n",
    "#         # Convolutional Layers\n",
    "#         self.convs = nn.ModuleList([\n",
    "#             nn.Conv2d(1, num_filters, (fs, input_dim)) for fs in filter_sizes\n",
    "#         ])\n",
    "        \n",
    "#         # Fully Connected Layer\n",
    "#         self.fc = nn.Linear(num_filters * len(filter_sizes), num_classes)\n",
    "        \n",
    "#         # Dropout for regularization\n",
    "#         self.dropout = nn.Dropout(dropout)\n",
    "\n",
    "#     def forward(self, x):\n",
    "#         # Add channel dimension for Conv2d\n",
    "#         x = x.unsqueeze(1)  # Shape: (batch_size, 1, seq_len, input_dim)\n",
    "\n",
    "#         # Apply Convolution and Pooling\n",
    "#         conved = [torch.relu(conv(x)).squeeze(3) for conv in self.convs]  # Conv2d\n",
    "#         pooled = [torch.max(c, dim=2)[0] for c in conved]  # Max pooling\n",
    "\n",
    "#         # Concatenate pooled features\n",
    "#         cat = torch.cat(pooled, dim=1)\n",
    "\n",
    "#         # Dropout and Fully Connected Layer\n",
    "#         cat = self.dropout(cat)\n",
    "#         output = self.fc(cat)\n",
    "\n",
    "#         return output  # Raw logits\n"
   ]
  },
  {
   "cell_type": "code",
   "execution_count": null,
   "metadata": {},
   "outputs": [],
   "source": [
    "# input_dim = X_train.shape[2]  # Number of features\n",
    "# num_classes = 2  # Binary classification\n",
    "# filter_sizes = [3, 4, 5]  # Filter sizes for convolutions\n",
    "# num_filters = 100  # Number of filters per filter size\n",
    "# dropout = 0.5\n",
    "\n",
    "# # Initialize model\n",
    "# model = TextCNN(input_dim, num_classes, filter_sizes, num_filters, dropout)\n",
    "\n",
    "# # Loss and optimizer\n",
    "# criterion = nn.CrossEntropyLoss()  # Combines LogSoftmax and NLLLoss\n",
    "# optimizer = torch.optim.Adam(model.parameters(), lr=0.001)"
   ]
  },
  {
   "cell_type": "code",
   "execution_count": null,
   "metadata": {},
   "outputs": [
    {
     "name": "stdout",
     "output_type": "stream",
     "text": [
      "Epoch 1/10, Loss: 0.7721\n",
      "Epoch 2/10, Loss: 0.6764\n",
      "Epoch 3/10, Loss: 0.6629\n",
      "Epoch 4/10, Loss: 0.6392\n",
      "Epoch 5/10, Loss: 0.6348\n",
      "Epoch 6/10, Loss: 0.6253\n",
      "Epoch 7/10, Loss: 0.6216\n",
      "Epoch 8/10, Loss: 0.6144\n",
      "Epoch 9/10, Loss: 0.6039\n",
      "Epoch 10/10, Loss: 0.5971\n"
     ]
    }
   ],
   "source": [
    "# # Training loop\n",
    "# epochs = 10\n",
    "# for epoch in range(epochs):\n",
    "#     model.train()  # Set model to training mode\n",
    "#     epoch_loss = 0\n",
    "\n",
    "#     for batch_features, batch_labels in train_loader:\n",
    "\n",
    "#         batch_labels = batch_labels[:, 0]  # Shape becomes (batch_size,)\n",
    "\n",
    "#         # Forward pass\n",
    "#         outputs = model(batch_features)  # Shape: (batch_size, num_classes)\n",
    "#         loss = criterion(outputs, batch_labels)  # Compute loss\n",
    "\n",
    "#         # Backward pass\n",
    "#         optimizer.zero_grad()\n",
    "#         loss.backward()\n",
    "\n",
    "#         # Update parameters\n",
    "#         optimizer.step()\n",
    "\n",
    "#         # Track loss\n",
    "#         epoch_loss += loss.item()\n",
    "\n",
    "#     print(f\"Epoch {epoch + 1}/{epochs}, Loss: {epoch_loss / len(train_loader):.4f}\")\n"
   ]
  },
  {
   "cell_type": "code",
   "execution_count": null,
   "metadata": {},
   "outputs": [
    {
     "name": "stdout",
     "output_type": "stream",
     "text": [
      "Epoch 10/10, Validation Loss: 0.6150, Validation Accuracy: 0.6626\n"
     ]
    }
   ],
   "source": [
    "# # Validation phase\n",
    "# model.eval()  # Set model to evaluation mode\n",
    "# val_loss = 0\n",
    "# total, correct = 0, 0\n",
    "\n",
    "# with torch.no_grad():\n",
    "#     for batch_features, batch_labels in val_loader:\n",
    "#         batch_labels = batch_labels[:, 0]  # Use only the first label for sequence classification\n",
    "\n",
    "#         # Forward pass\n",
    "#         outputs = model(batch_features)\n",
    "#         loss = criterion(outputs, batch_labels)\n",
    "#         val_loss += loss.item()\n",
    "\n",
    "#         # Compute accuracy\n",
    "#         predictions = torch.argmax(outputs, dim=1)  # Get predicted class indices\n",
    "#         correct += (predictions == batch_labels).sum().item()\n",
    "#         total += batch_labels.size(0)\n",
    "\n",
    "# val_accuracy = correct / total if total > 0 else 0\n",
    "# print(f\"Epoch {epoch + 1}/{epochs}, Validation Loss: {val_loss / len(val_loader):.4f}, Validation Accuracy: {val_accuracy:.4f}\")"
   ]
  },
  {
   "cell_type": "code",
   "execution_count": null,
   "metadata": {},
   "outputs": [
    {
     "name": "stdout",
     "output_type": "stream",
     "text": [
      "Epoch 10/10, Validation Loss: 1.2300\n",
      "Validation Accuracy: 0.6626\n",
      "Precision: 0.6628, Recall: 0.6465, F1-Score: 0.6455\n"
     ]
    }
   ],
   "source": [
    "# # Initialize containers for storing predictions and labels\n",
    "# all_predictions = []\n",
    "# all_true_labels = []\n",
    "\n",
    "# with torch.no_grad():\n",
    "#     for batch_features, batch_labels in val_loader:\n",
    "#         batch_labels = batch_labels[:, 0]  # Use only the first label for sequence classification\n",
    "\n",
    "#         # Forward pass\n",
    "#         outputs = model(batch_features)\n",
    "\n",
    "#         # Compute loss\n",
    "#         loss = criterion(outputs, batch_labels)\n",
    "#         val_loss += loss.item()\n",
    "\n",
    "#         # Compute predictions\n",
    "#         predictions = torch.argmax(outputs, dim=1)  # Get predicted class indices\n",
    "\n",
    "#         # Store predictions and true labels\n",
    "#         all_predictions.extend(predictions.cpu().numpy())\n",
    "#         all_true_labels.extend(batch_labels.cpu().numpy())\n",
    "\n",
    "#         correct += (predictions == batch_labels).sum().item()\n",
    "#         total += batch_labels.size(0)\n",
    "\n",
    "# # Calculate additional metrics\n",
    "# val_accuracy = correct / total if total > 0 else 0\n",
    "# precision = precision_score(all_true_labels, all_predictions, average='macro')\n",
    "# recall = recall_score(all_true_labels, all_predictions, average='macro')\n",
    "# f1 = f1_score(all_true_labels, all_predictions, average='macro')\n",
    "\n",
    "# print(f\"Epoch {epoch + 1}/{epochs}, Validation Loss: {val_loss / len(val_loader):.4f}\")\n",
    "# print(f\"Validation Accuracy: {val_accuracy:.4f}\")\n",
    "# print(f\"Precision: {precision:.4f}, Recall: {recall:.4f}, F1-Score: {f1:.4f}\")\n"
   ]
  },
  {
   "cell_type": "markdown",
   "metadata": {},
   "source": [
    "## Hyperparameter Tuning"
   ]
  },
  {
   "cell_type": "code",
   "execution_count": 143,
   "metadata": {},
   "outputs": [
    {
     "name": "stdout",
     "output_type": "stream",
     "text": [
      "Testing: hidden_dim=64, num_layers=1, dropout=0.2, lr=0.005\n"
     ]
    },
    {
     "name": "stderr",
     "output_type": "stream",
     "text": [
      "/Users/reolingovender/Library/Python/3.9/lib/python/site-packages/torch/nn/modules/rnn.py:123: UserWarning: dropout option adds dropout after all but last recurrent layer, so non-zero dropout expects num_layers greater than 1, but got dropout=0.2 and num_layers=1\n",
      "  warnings.warn(\n"
     ]
    },
    {
     "name": "stdout",
     "output_type": "stream",
     "text": [
      "Validation Accuracy: 0.6344, Precision: 0.6333, Recall: 0.6041, F1-Score: 0.5962\n",
      "Testing: hidden_dim=64, num_layers=1, dropout=0.2, lr=0.001\n"
     ]
    },
    {
     "name": "stderr",
     "output_type": "stream",
     "text": [
      "/Users/reolingovender/Library/Python/3.9/lib/python/site-packages/torch/nn/modules/rnn.py:123: UserWarning: dropout option adds dropout after all but last recurrent layer, so non-zero dropout expects num_layers greater than 1, but got dropout=0.2 and num_layers=1\n",
      "  warnings.warn(\n"
     ]
    },
    {
     "name": "stdout",
     "output_type": "stream",
     "text": [
      "Validation Accuracy: 0.6267, Precision: 0.6174, Recall: 0.6069, F1-Score: 0.6060\n",
      "Testing: hidden_dim=64, num_layers=1, dropout=0.2, lr=0.005\n"
     ]
    },
    {
     "name": "stderr",
     "output_type": "stream",
     "text": [
      "/Users/reolingovender/Library/Python/3.9/lib/python/site-packages/torch/nn/modules/rnn.py:123: UserWarning: dropout option adds dropout after all but last recurrent layer, so non-zero dropout expects num_layers greater than 1, but got dropout=0.2 and num_layers=1\n",
      "  warnings.warn(\n"
     ]
    },
    {
     "name": "stdout",
     "output_type": "stream",
     "text": [
      "Validation Accuracy: 0.6233, Precision: 0.6543, Recall: 0.5771, F1-Score: 0.5411\n",
      "Testing: hidden_dim=64, num_layers=1, dropout=0.3, lr=0.005\n"
     ]
    },
    {
     "name": "stderr",
     "output_type": "stream",
     "text": [
      "/Users/reolingovender/Library/Python/3.9/lib/python/site-packages/torch/nn/modules/rnn.py:123: UserWarning: dropout option adds dropout after all but last recurrent layer, so non-zero dropout expects num_layers greater than 1, but got dropout=0.3 and num_layers=1\n",
      "  warnings.warn(\n"
     ]
    },
    {
     "name": "stdout",
     "output_type": "stream",
     "text": [
      "Validation Accuracy: 0.6444, Precision: 0.6453, Recall: 0.6151, F1-Score: 0.6087\n",
      "Testing: hidden_dim=64, num_layers=1, dropout=0.3, lr=0.001\n"
     ]
    },
    {
     "name": "stderr",
     "output_type": "stream",
     "text": [
      "/Users/reolingovender/Library/Python/3.9/lib/python/site-packages/torch/nn/modules/rnn.py:123: UserWarning: dropout option adds dropout after all but last recurrent layer, so non-zero dropout expects num_layers greater than 1, but got dropout=0.3 and num_layers=1\n",
      "  warnings.warn(\n"
     ]
    },
    {
     "name": "stdout",
     "output_type": "stream",
     "text": [
      "Validation Accuracy: 0.6311, Precision: 0.6350, Recall: 0.5964, F1-Score: 0.5829\n",
      "Testing: hidden_dim=64, num_layers=1, dropout=0.3, lr=0.005\n"
     ]
    },
    {
     "name": "stderr",
     "output_type": "stream",
     "text": [
      "/Users/reolingovender/Library/Python/3.9/lib/python/site-packages/torch/nn/modules/rnn.py:123: UserWarning: dropout option adds dropout after all but last recurrent layer, so non-zero dropout expects num_layers greater than 1, but got dropout=0.3 and num_layers=1\n",
      "  warnings.warn(\n"
     ]
    },
    {
     "name": "stdout",
     "output_type": "stream",
     "text": [
      "Validation Accuracy: 0.6311, Precision: 0.6281, Recall: 0.6015, F1-Score: 0.5940\n",
      "Testing: hidden_dim=64, num_layers=1, dropout=0.5, lr=0.005\n"
     ]
    },
    {
     "name": "stderr",
     "output_type": "stream",
     "text": [
      "/Users/reolingovender/Library/Python/3.9/lib/python/site-packages/torch/nn/modules/rnn.py:123: UserWarning: dropout option adds dropout after all but last recurrent layer, so non-zero dropout expects num_layers greater than 1, but got dropout=0.5 and num_layers=1\n",
      "  warnings.warn(\n"
     ]
    },
    {
     "name": "stdout",
     "output_type": "stream",
     "text": [
      "Validation Accuracy: 0.6311, Precision: 0.6480, Recall: 0.5906, F1-Score: 0.5680\n",
      "Testing: hidden_dim=64, num_layers=1, dropout=0.5, lr=0.001\n"
     ]
    },
    {
     "name": "stderr",
     "output_type": "stream",
     "text": [
      "/Users/reolingovender/Library/Python/3.9/lib/python/site-packages/torch/nn/modules/rnn.py:123: UserWarning: dropout option adds dropout after all but last recurrent layer, so non-zero dropout expects num_layers greater than 1, but got dropout=0.5 and num_layers=1\n",
      "  warnings.warn(\n"
     ]
    },
    {
     "name": "stdout",
     "output_type": "stream",
     "text": [
      "Validation Accuracy: 0.6256, Precision: 0.6400, Recall: 0.5845, F1-Score: 0.5602\n",
      "Testing: hidden_dim=64, num_layers=1, dropout=0.5, lr=0.005\n"
     ]
    },
    {
     "name": "stderr",
     "output_type": "stream",
     "text": [
      "/Users/reolingovender/Library/Python/3.9/lib/python/site-packages/torch/nn/modules/rnn.py:123: UserWarning: dropout option adds dropout after all but last recurrent layer, so non-zero dropout expects num_layers greater than 1, but got dropout=0.5 and num_layers=1\n",
      "  warnings.warn(\n"
     ]
    },
    {
     "name": "stdout",
     "output_type": "stream",
     "text": [
      "Validation Accuracy: 0.6300, Precision: 0.6209, Recall: 0.6156, F1-Score: 0.6161\n",
      "Testing: hidden_dim=64, num_layers=2, dropout=0.2, lr=0.005\n",
      "Validation Accuracy: 0.6400, Precision: 0.6403, Recall: 0.6100, F1-Score: 0.6026\n",
      "Testing: hidden_dim=64, num_layers=2, dropout=0.2, lr=0.001\n",
      "Validation Accuracy: 0.6244, Precision: 0.6180, Recall: 0.6183, F1-Score: 0.6181\n",
      "Testing: hidden_dim=64, num_layers=2, dropout=0.2, lr=0.005\n",
      "Validation Accuracy: 0.6400, Precision: 0.6332, Recall: 0.6329, F1-Score: 0.6330\n",
      "Testing: hidden_dim=64, num_layers=2, dropout=0.3, lr=0.005\n",
      "Validation Accuracy: 0.6356, Precision: 0.6291, Recall: 0.6118, F1-Score: 0.6091\n",
      "Testing: hidden_dim=64, num_layers=2, dropout=0.3, lr=0.001\n",
      "Validation Accuracy: 0.6267, Precision: 0.6177, Recall: 0.6139, F1-Score: 0.6145\n",
      "Testing: hidden_dim=64, num_layers=2, dropout=0.3, lr=0.005\n",
      "Validation Accuracy: 0.6356, Precision: 0.6317, Recall: 0.6081, F1-Score: 0.6029\n",
      "Testing: hidden_dim=64, num_layers=2, dropout=0.5, lr=0.005\n",
      "Validation Accuracy: 0.6344, Precision: 0.6295, Recall: 0.6081, F1-Score: 0.6036\n",
      "Testing: hidden_dim=64, num_layers=2, dropout=0.5, lr=0.001\n",
      "Validation Accuracy: 0.6278, Precision: 0.6355, Recall: 0.5901, F1-Score: 0.5720\n",
      "Testing: hidden_dim=64, num_layers=2, dropout=0.5, lr=0.005\n",
      "Validation Accuracy: 0.6233, Precision: 0.6195, Recall: 0.6212, F1-Score: 0.6196\n",
      "Testing: hidden_dim=64, num_layers=3, dropout=0.2, lr=0.005\n",
      "Validation Accuracy: 0.6444, Precision: 0.6364, Recall: 0.6284, F1-Score: 0.6289\n",
      "Testing: hidden_dim=64, num_layers=3, dropout=0.2, lr=0.001\n",
      "Validation Accuracy: 0.6278, Precision: 0.6184, Recall: 0.6115, F1-Score: 0.6117\n",
      "Testing: hidden_dim=64, num_layers=3, dropout=0.2, lr=0.005\n",
      "Validation Accuracy: 0.6167, Precision: 0.6296, Recall: 0.5737, F1-Score: 0.5441\n",
      "Testing: hidden_dim=64, num_layers=3, dropout=0.3, lr=0.005\n",
      "Validation Accuracy: 0.6167, Precision: 0.6157, Recall: 0.6177, F1-Score: 0.6145\n",
      "Testing: hidden_dim=64, num_layers=3, dropout=0.3, lr=0.001\n",
      "Validation Accuracy: 0.6300, Precision: 0.6513, Recall: 0.5879, F1-Score: 0.5618\n",
      "Testing: hidden_dim=64, num_layers=3, dropout=0.3, lr=0.005\n",
      "Validation Accuracy: 0.6100, Precision: 0.6169, Recall: 0.5672, F1-Score: 0.5372\n",
      "Testing: hidden_dim=64, num_layers=3, dropout=0.5, lr=0.005\n",
      "Validation Accuracy: 0.6222, Precision: 0.6138, Recall: 0.5973, F1-Score: 0.5933\n",
      "Testing: hidden_dim=64, num_layers=3, dropout=0.5, lr=0.001\n",
      "Validation Accuracy: 0.6322, Precision: 0.6232, Recall: 0.6173, F1-Score: 0.6178\n",
      "Testing: hidden_dim=64, num_layers=3, dropout=0.5, lr=0.005\n",
      "Validation Accuracy: 0.6300, Precision: 0.6208, Recall: 0.6147, F1-Score: 0.6151\n",
      "Testing: hidden_dim=128, num_layers=1, dropout=0.2, lr=0.005\n"
     ]
    },
    {
     "name": "stderr",
     "output_type": "stream",
     "text": [
      "/Users/reolingovender/Library/Python/3.9/lib/python/site-packages/torch/nn/modules/rnn.py:123: UserWarning: dropout option adds dropout after all but last recurrent layer, so non-zero dropout expects num_layers greater than 1, but got dropout=0.2 and num_layers=1\n",
      "  warnings.warn(\n"
     ]
    },
    {
     "name": "stdout",
     "output_type": "stream",
     "text": [
      "Validation Accuracy: 0.6322, Precision: 0.6319, Recall: 0.6007, F1-Score: 0.5912\n",
      "Testing: hidden_dim=128, num_layers=1, dropout=0.2, lr=0.001\n"
     ]
    },
    {
     "name": "stderr",
     "output_type": "stream",
     "text": [
      "/Users/reolingovender/Library/Python/3.9/lib/python/site-packages/torch/nn/modules/rnn.py:123: UserWarning: dropout option adds dropout after all but last recurrent layer, so non-zero dropout expects num_layers greater than 1, but got dropout=0.2 and num_layers=1\n",
      "  warnings.warn(\n"
     ]
    },
    {
     "name": "stdout",
     "output_type": "stream",
     "text": [
      "Validation Accuracy: 0.6244, Precision: 0.6156, Recall: 0.6017, F1-Score: 0.5992\n",
      "Testing: hidden_dim=128, num_layers=1, dropout=0.2, lr=0.005\n"
     ]
    },
    {
     "name": "stderr",
     "output_type": "stream",
     "text": [
      "/Users/reolingovender/Library/Python/3.9/lib/python/site-packages/torch/nn/modules/rnn.py:123: UserWarning: dropout option adds dropout after all but last recurrent layer, so non-zero dropout expects num_layers greater than 1, but got dropout=0.2 and num_layers=1\n",
      "  warnings.warn(\n"
     ]
    },
    {
     "name": "stdout",
     "output_type": "stream",
     "text": [
      "Validation Accuracy: 0.6178, Precision: 0.6400, Recall: 0.5722, F1-Score: 0.5370\n",
      "Testing: hidden_dim=128, num_layers=1, dropout=0.3, lr=0.005\n"
     ]
    },
    {
     "name": "stderr",
     "output_type": "stream",
     "text": [
      "/Users/reolingovender/Library/Python/3.9/lib/python/site-packages/torch/nn/modules/rnn.py:123: UserWarning: dropout option adds dropout after all but last recurrent layer, so non-zero dropout expects num_layers greater than 1, but got dropout=0.3 and num_layers=1\n",
      "  warnings.warn(\n"
     ]
    },
    {
     "name": "stdout",
     "output_type": "stream",
     "text": [
      "Validation Accuracy: 0.6422, Precision: 0.6346, Recall: 0.6234, F1-Score: 0.6232\n",
      "Testing: hidden_dim=128, num_layers=1, dropout=0.3, lr=0.001\n"
     ]
    },
    {
     "name": "stderr",
     "output_type": "stream",
     "text": [
      "/Users/reolingovender/Library/Python/3.9/lib/python/site-packages/torch/nn/modules/rnn.py:123: UserWarning: dropout option adds dropout after all but last recurrent layer, so non-zero dropout expects num_layers greater than 1, but got dropout=0.3 and num_layers=1\n",
      "  warnings.warn(\n"
     ]
    },
    {
     "name": "stdout",
     "output_type": "stream",
     "text": [
      "Validation Accuracy: 0.6244, Precision: 0.6149, Recall: 0.6092, F1-Score: 0.6095\n",
      "Testing: hidden_dim=128, num_layers=1, dropout=0.3, lr=0.005\n"
     ]
    },
    {
     "name": "stderr",
     "output_type": "stream",
     "text": [
      "/Users/reolingovender/Library/Python/3.9/lib/python/site-packages/torch/nn/modules/rnn.py:123: UserWarning: dropout option adds dropout after all but last recurrent layer, so non-zero dropout expects num_layers greater than 1, but got dropout=0.3 and num_layers=1\n",
      "  warnings.warn(\n"
     ]
    },
    {
     "name": "stdout",
     "output_type": "stream",
     "text": [
      "Validation Accuracy: 0.6333, Precision: 0.6324, Recall: 0.6026, F1-Score: 0.5940\n",
      "Testing: hidden_dim=128, num_layers=1, dropout=0.5, lr=0.005\n"
     ]
    },
    {
     "name": "stderr",
     "output_type": "stream",
     "text": [
      "/Users/reolingovender/Library/Python/3.9/lib/python/site-packages/torch/nn/modules/rnn.py:123: UserWarning: dropout option adds dropout after all but last recurrent layer, so non-zero dropout expects num_layers greater than 1, but got dropout=0.5 and num_layers=1\n",
      "  warnings.warn(\n"
     ]
    },
    {
     "name": "stdout",
     "output_type": "stream",
     "text": [
      "Validation Accuracy: 0.6189, Precision: 0.6287, Recall: 0.5778, F1-Score: 0.5523\n",
      "Testing: hidden_dim=128, num_layers=1, dropout=0.5, lr=0.001\n"
     ]
    },
    {
     "name": "stderr",
     "output_type": "stream",
     "text": [
      "/Users/reolingovender/Library/Python/3.9/lib/python/site-packages/torch/nn/modules/rnn.py:123: UserWarning: dropout option adds dropout after all but last recurrent layer, so non-zero dropout expects num_layers greater than 1, but got dropout=0.5 and num_layers=1\n",
      "  warnings.warn(\n"
     ]
    },
    {
     "name": "stdout",
     "output_type": "stream",
     "text": [
      "Validation Accuracy: 0.6356, Precision: 0.6408, Recall: 0.6012, F1-Score: 0.5886\n",
      "Testing: hidden_dim=128, num_layers=1, dropout=0.5, lr=0.005\n"
     ]
    },
    {
     "name": "stderr",
     "output_type": "stream",
     "text": [
      "/Users/reolingovender/Library/Python/3.9/lib/python/site-packages/torch/nn/modules/rnn.py:123: UserWarning: dropout option adds dropout after all but last recurrent layer, so non-zero dropout expects num_layers greater than 1, but got dropout=0.5 and num_layers=1\n",
      "  warnings.warn(\n"
     ]
    },
    {
     "name": "stdout",
     "output_type": "stream",
     "text": [
      "Validation Accuracy: 0.6378, Precision: 0.6342, Recall: 0.6107, F1-Score: 0.6059\n",
      "Testing: hidden_dim=128, num_layers=2, dropout=0.2, lr=0.005\n",
      "Validation Accuracy: 0.6444, Precision: 0.6366, Recall: 0.6271, F1-Score: 0.6275\n",
      "Testing: hidden_dim=128, num_layers=2, dropout=0.2, lr=0.001\n",
      "Validation Accuracy: 0.6233, Precision: 0.6147, Recall: 0.6124, F1-Score: 0.6130\n",
      "Testing: hidden_dim=128, num_layers=2, dropout=0.2, lr=0.005\n",
      "Validation Accuracy: 0.6256, Precision: 0.6160, Recall: 0.6093, F1-Score: 0.6094\n",
      "Testing: hidden_dim=128, num_layers=2, dropout=0.3, lr=0.005\n",
      "Validation Accuracy: 0.6144, Precision: 0.6038, Recall: 0.5959, F1-Score: 0.5950\n",
      "Testing: hidden_dim=128, num_layers=2, dropout=0.3, lr=0.001\n",
      "Validation Accuracy: 0.6222, Precision: 0.6183, Recall: 0.6199, F1-Score: 0.6184\n",
      "Testing: hidden_dim=128, num_layers=2, dropout=0.3, lr=0.005\n",
      "Validation Accuracy: 0.6344, Precision: 0.6264, Recall: 0.6244, F1-Score: 0.6250\n",
      "Testing: hidden_dim=128, num_layers=2, dropout=0.5, lr=0.005\n",
      "Validation Accuracy: 0.6211, Precision: 0.6112, Recall: 0.6051, F1-Score: 0.6051\n",
      "Testing: hidden_dim=128, num_layers=2, dropout=0.5, lr=0.001\n",
      "Validation Accuracy: 0.6289, Precision: 0.6215, Recall: 0.6207, F1-Score: 0.6210\n",
      "Testing: hidden_dim=128, num_layers=2, dropout=0.5, lr=0.005\n",
      "Validation Accuracy: 0.6178, Precision: 0.6258, Recall: 0.5771, F1-Score: 0.5524\n",
      "Testing: hidden_dim=128, num_layers=3, dropout=0.2, lr=0.005\n",
      "Validation Accuracy: 0.6189, Precision: 0.6092, Recall: 0.5959, F1-Score: 0.5930\n",
      "Testing: hidden_dim=128, num_layers=3, dropout=0.2, lr=0.001\n",
      "Validation Accuracy: 0.6411, Precision: 0.6442, Recall: 0.6094, F1-Score: 0.6005\n",
      "Testing: hidden_dim=128, num_layers=3, dropout=0.2, lr=0.005\n",
      "Validation Accuracy: 0.6144, Precision: 0.6063, Recall: 0.5853, F1-Score: 0.5772\n",
      "Testing: hidden_dim=128, num_layers=3, dropout=0.3, lr=0.005\n",
      "Validation Accuracy: 0.6200, Precision: 0.6131, Recall: 0.6131, F1-Score: 0.6131\n",
      "Testing: hidden_dim=128, num_layers=3, dropout=0.3, lr=0.001\n",
      "Validation Accuracy: 0.6278, Precision: 0.6267, Recall: 0.5956, F1-Score: 0.5850\n",
      "Testing: hidden_dim=128, num_layers=3, dropout=0.3, lr=0.005\n",
      "Validation Accuracy: 0.6300, Precision: 0.6244, Recall: 0.6253, F1-Score: 0.6247\n",
      "Testing: hidden_dim=128, num_layers=3, dropout=0.5, lr=0.005\n",
      "Validation Accuracy: 0.6189, Precision: 0.6140, Recall: 0.6152, F1-Score: 0.6142\n",
      "Testing: hidden_dim=128, num_layers=3, dropout=0.5, lr=0.001\n",
      "Validation Accuracy: 0.6356, Precision: 0.6268, Recall: 0.6205, F1-Score: 0.6211\n",
      "Testing: hidden_dim=128, num_layers=3, dropout=0.5, lr=0.005\n",
      "Validation Accuracy: 0.6178, Precision: 0.6094, Recall: 0.6078, F1-Score: 0.6083\n",
      "Testing: hidden_dim=256, num_layers=1, dropout=0.2, lr=0.005\n"
     ]
    },
    {
     "name": "stderr",
     "output_type": "stream",
     "text": [
      "/Users/reolingovender/Library/Python/3.9/lib/python/site-packages/torch/nn/modules/rnn.py:123: UserWarning: dropout option adds dropout after all but last recurrent layer, so non-zero dropout expects num_layers greater than 1, but got dropout=0.2 and num_layers=1\n",
      "  warnings.warn(\n"
     ]
    },
    {
     "name": "stdout",
     "output_type": "stream",
     "text": [
      "Validation Accuracy: 0.6344, Precision: 0.6259, Recall: 0.6222, F1-Score: 0.6230\n",
      "Testing: hidden_dim=256, num_layers=1, dropout=0.2, lr=0.001\n"
     ]
    },
    {
     "name": "stderr",
     "output_type": "stream",
     "text": [
      "/Users/reolingovender/Library/Python/3.9/lib/python/site-packages/torch/nn/modules/rnn.py:123: UserWarning: dropout option adds dropout after all but last recurrent layer, so non-zero dropout expects num_layers greater than 1, but got dropout=0.2 and num_layers=1\n",
      "  warnings.warn(\n"
     ]
    },
    {
     "name": "stdout",
     "output_type": "stream",
     "text": [
      "Validation Accuracy: 0.6278, Precision: 0.6270, Recall: 0.5952, F1-Score: 0.5843\n",
      "Testing: hidden_dim=256, num_layers=1, dropout=0.2, lr=0.005\n"
     ]
    },
    {
     "name": "stderr",
     "output_type": "stream",
     "text": [
      "/Users/reolingovender/Library/Python/3.9/lib/python/site-packages/torch/nn/modules/rnn.py:123: UserWarning: dropout option adds dropout after all but last recurrent layer, so non-zero dropout expects num_layers greater than 1, but got dropout=0.2 and num_layers=1\n",
      "  warnings.warn(\n"
     ]
    },
    {
     "name": "stdout",
     "output_type": "stream",
     "text": [
      "Validation Accuracy: 0.6289, Precision: 0.6250, Recall: 0.6267, F1-Score: 0.6251\n",
      "Testing: hidden_dim=256, num_layers=1, dropout=0.3, lr=0.005\n"
     ]
    },
    {
     "name": "stderr",
     "output_type": "stream",
     "text": [
      "/Users/reolingovender/Library/Python/3.9/lib/python/site-packages/torch/nn/modules/rnn.py:123: UserWarning: dropout option adds dropout after all but last recurrent layer, so non-zero dropout expects num_layers greater than 1, but got dropout=0.3 and num_layers=1\n",
      "  warnings.warn(\n"
     ]
    },
    {
     "name": "stdout",
     "output_type": "stream",
     "text": [
      "Validation Accuracy: 0.6356, Precision: 0.6307, Recall: 0.6094, F1-Score: 0.6051\n",
      "Testing: hidden_dim=256, num_layers=1, dropout=0.3, lr=0.001\n"
     ]
    },
    {
     "name": "stderr",
     "output_type": "stream",
     "text": [
      "/Users/reolingovender/Library/Python/3.9/lib/python/site-packages/torch/nn/modules/rnn.py:123: UserWarning: dropout option adds dropout after all but last recurrent layer, so non-zero dropout expects num_layers greater than 1, but got dropout=0.3 and num_layers=1\n",
      "  warnings.warn(\n"
     ]
    },
    {
     "name": "stdout",
     "output_type": "stream",
     "text": [
      "Validation Accuracy: 0.6222, Precision: 0.6123, Recall: 0.6051, F1-Score: 0.6050\n",
      "Testing: hidden_dim=256, num_layers=1, dropout=0.3, lr=0.005\n"
     ]
    },
    {
     "name": "stderr",
     "output_type": "stream",
     "text": [
      "/Users/reolingovender/Library/Python/3.9/lib/python/site-packages/torch/nn/modules/rnn.py:123: UserWarning: dropout option adds dropout after all but last recurrent layer, so non-zero dropout expects num_layers greater than 1, but got dropout=0.3 and num_layers=1\n",
      "  warnings.warn(\n"
     ]
    },
    {
     "name": "stdout",
     "output_type": "stream",
     "text": [
      "Validation Accuracy: 0.5767, Precision: 0.6054, Recall: 0.5152, F1-Score: 0.4113\n",
      "Testing: hidden_dim=256, num_layers=1, dropout=0.5, lr=0.005\n"
     ]
    },
    {
     "name": "stderr",
     "output_type": "stream",
     "text": [
      "/Users/reolingovender/Library/Python/3.9/lib/python/site-packages/torch/nn/modules/rnn.py:123: UserWarning: dropout option adds dropout after all but last recurrent layer, so non-zero dropout expects num_layers greater than 1, but got dropout=0.5 and num_layers=1\n",
      "  warnings.warn(\n"
     ]
    },
    {
     "name": "stdout",
     "output_type": "stream",
     "text": [
      "Validation Accuracy: 0.6300, Precision: 0.6250, Recall: 0.6023, F1-Score: 0.5966\n",
      "Testing: hidden_dim=256, num_layers=1, dropout=0.5, lr=0.001\n"
     ]
    },
    {
     "name": "stderr",
     "output_type": "stream",
     "text": [
      "/Users/reolingovender/Library/Python/3.9/lib/python/site-packages/torch/nn/modules/rnn.py:123: UserWarning: dropout option adds dropout after all but last recurrent layer, so non-zero dropout expects num_layers greater than 1, but got dropout=0.5 and num_layers=1\n",
      "  warnings.warn(\n"
     ]
    },
    {
     "name": "stdout",
     "output_type": "stream",
     "text": [
      "Validation Accuracy: 0.6278, Precision: 0.6382, Recall: 0.5889, F1-Score: 0.5687\n",
      "Testing: hidden_dim=256, num_layers=1, dropout=0.5, lr=0.005\n"
     ]
    },
    {
     "name": "stderr",
     "output_type": "stream",
     "text": [
      "/Users/reolingovender/Library/Python/3.9/lib/python/site-packages/torch/nn/modules/rnn.py:123: UserWarning: dropout option adds dropout after all but last recurrent layer, so non-zero dropout expects num_layers greater than 1, but got dropout=0.5 and num_layers=1\n",
      "  warnings.warn(\n"
     ]
    },
    {
     "name": "stdout",
     "output_type": "stream",
     "text": [
      "Validation Accuracy: 0.6300, Precision: 0.6209, Recall: 0.6117, F1-Score: 0.6114\n",
      "Testing: hidden_dim=256, num_layers=2, dropout=0.2, lr=0.005\n",
      "Validation Accuracy: 0.6222, Precision: 0.6123, Recall: 0.6048, F1-Score: 0.6046\n",
      "Testing: hidden_dim=256, num_layers=2, dropout=0.2, lr=0.001\n",
      "Validation Accuracy: 0.6189, Precision: 0.6327, Recall: 0.5762, F1-Score: 0.5477\n",
      "Testing: hidden_dim=256, num_layers=2, dropout=0.2, lr=0.005\n",
      "Validation Accuracy: 0.6289, Precision: 0.6196, Recall: 0.6110, F1-Score: 0.6108\n",
      "Testing: hidden_dim=256, num_layers=2, dropout=0.3, lr=0.005\n",
      "Validation Accuracy: 0.6311, Precision: 0.6247, Recall: 0.6250, F1-Score: 0.6249\n",
      "Testing: hidden_dim=256, num_layers=2, dropout=0.3, lr=0.001\n",
      "Validation Accuracy: 0.6256, Precision: 0.6408, Recall: 0.5842, F1-Score: 0.5593\n",
      "Testing: hidden_dim=256, num_layers=2, dropout=0.3, lr=0.005\n",
      "Validation Accuracy: 0.6289, Precision: 0.6228, Recall: 0.6023, F1-Score: 0.5973\n",
      "Testing: hidden_dim=256, num_layers=2, dropout=0.5, lr=0.005\n",
      "Validation Accuracy: 0.6244, Precision: 0.6188, Recall: 0.5956, F1-Score: 0.5885\n",
      "Testing: hidden_dim=256, num_layers=2, dropout=0.5, lr=0.001\n",
      "Validation Accuracy: 0.6356, Precision: 0.6271, Recall: 0.6172, F1-Score: 0.6170\n",
      "Testing: hidden_dim=256, num_layers=2, dropout=0.5, lr=0.005\n",
      "Validation Accuracy: 0.6211, Precision: 0.6133, Recall: 0.6123, F1-Score: 0.6127\n",
      "Testing: hidden_dim=256, num_layers=3, dropout=0.2, lr=0.005\n"
     ]
    },
    {
     "name": "stderr",
     "output_type": "stream",
     "text": [
      "/Users/reolingovender/Library/Python/3.9/lib/python/site-packages/sklearn/metrics/_classification.py:1531: UndefinedMetricWarning: Precision is ill-defined and being set to 0.0 in labels with no predicted samples. Use `zero_division` parameter to control this behavior.\n",
      "  _warn_prf(average, modifier, f\"{metric.capitalize()} is\", len(result))\n"
     ]
    },
    {
     "name": "stdout",
     "output_type": "stream",
     "text": [
      "Validation Accuracy: 0.5667, Precision: 0.2833, Recall: 0.5000, F1-Score: 0.3617\n",
      "Testing: hidden_dim=256, num_layers=3, dropout=0.2, lr=0.001\n",
      "Validation Accuracy: 0.6244, Precision: 0.6162, Recall: 0.6143, F1-Score: 0.6149\n",
      "Testing: hidden_dim=256, num_layers=3, dropout=0.2, lr=0.005\n"
     ]
    },
    {
     "name": "stderr",
     "output_type": "stream",
     "text": [
      "/Users/reolingovender/Library/Python/3.9/lib/python/site-packages/sklearn/metrics/_classification.py:1531: UndefinedMetricWarning: Precision is ill-defined and being set to 0.0 in labels with no predicted samples. Use `zero_division` parameter to control this behavior.\n",
      "  _warn_prf(average, modifier, f\"{metric.capitalize()} is\", len(result))\n"
     ]
    },
    {
     "name": "stdout",
     "output_type": "stream",
     "text": [
      "Validation Accuracy: 0.5667, Precision: 0.2833, Recall: 0.5000, F1-Score: 0.3617\n",
      "Testing: hidden_dim=256, num_layers=3, dropout=0.3, lr=0.005\n"
     ]
    },
    {
     "name": "stderr",
     "output_type": "stream",
     "text": [
      "/Users/reolingovender/Library/Python/3.9/lib/python/site-packages/sklearn/metrics/_classification.py:1531: UndefinedMetricWarning: Precision is ill-defined and being set to 0.0 in labels with no predicted samples. Use `zero_division` parameter to control this behavior.\n",
      "  _warn_prf(average, modifier, f\"{metric.capitalize()} is\", len(result))\n"
     ]
    },
    {
     "name": "stdout",
     "output_type": "stream",
     "text": [
      "Validation Accuracy: 0.5667, Precision: 0.2833, Recall: 0.5000, F1-Score: 0.3617\n",
      "Testing: hidden_dim=256, num_layers=3, dropout=0.3, lr=0.001\n",
      "Validation Accuracy: 0.6411, Precision: 0.6428, Recall: 0.6103, F1-Score: 0.6023\n",
      "Testing: hidden_dim=256, num_layers=3, dropout=0.3, lr=0.005\n",
      "Validation Accuracy: 0.5867, Precision: 0.6322, Recall: 0.6145, F1-Score: 0.5799\n",
      "Testing: hidden_dim=256, num_layers=3, dropout=0.5, lr=0.005\n",
      "Validation Accuracy: 0.6156, Precision: 0.6050, Recall: 0.5956, F1-Score: 0.5943\n",
      "Testing: hidden_dim=256, num_layers=3, dropout=0.5, lr=0.001\n",
      "Validation Accuracy: 0.6322, Precision: 0.6233, Recall: 0.6185, F1-Score: 0.6191\n",
      "Testing: hidden_dim=256, num_layers=3, dropout=0.5, lr=0.005\n",
      "Validation Accuracy: 0.6189, Precision: 0.6148, Recall: 0.6164, F1-Score: 0.6150\n",
      "Best Validation F1-Score: 0.6330\n",
      "Best Parameters: hidden_dim=64, num_layers=2, dropout=0.2, lr=0.005\n"
     ]
    }
   ],
   "source": [
    "import itertools\n",
    "import torch\n",
    "import torch.nn as nn\n",
    "import torch.optim as optim\n",
    "from sklearn.metrics import precision_score, recall_score, f1_score\n",
    "from torch.utils.data import DataLoader\n",
    "\n",
    "# Define hyperparameter grid\n",
    "hidden_dims = [64, 128, 256]\n",
    "num_layers = [1, 2, 3]\n",
    "dropouts = [0.2, 0.3, 0.5]\n",
    "learning_rates = [0.005, 0.001, 0.005]\n",
    "\n",
    "# Cartesian product of hyperparameter combinations\n",
    "param_grid = list(itertools.product(hidden_dims, num_layers, dropouts, learning_rates))\n",
    "\n",
    "# Example validation DataLoader\n",
    "val_loader = DataLoader(val_dataset, batch_size=16, shuffle=False)\n",
    "\n",
    "# Grid search\n",
    "best_val_accuracy = 0\n",
    "best_params = None\n",
    "input_dim = X_train.shape[2]  # Assuming input_dim is determined by your dataset\n",
    "output_dim = 2  # Adjust based on the number of classes\n",
    "\n",
    "def train_and_evaluate(hidden_dim, num_layers, dropout, lr):\n",
    "    # Initialize the model\n",
    "    model = BiLSTM(input_dim, hidden_dim, output_dim, num_layers=num_layers, dropout=dropout)\n",
    "    optimizer = optim.Adam(model.parameters(), lr=lr)\n",
    "    criterion = nn.CrossEntropyLoss()  # Ensure correct label indexing\n",
    "\n",
    "    # Training loop\n",
    "    model.train()\n",
    "    for epoch in range(10):  # Reduce epochs for grid search speed\n",
    "        for batch_features, batch_labels in train_loader:\n",
    "            optimizer.zero_grad()\n",
    "            \n",
    "            # Forward pass\n",
    "            outputs = model(batch_features)  # Shape: [batch_size, seq_len, num_classes]\n",
    "            outputs = outputs[:, 0, :]  # Pooling: use the first token for classification (shape: [batch_size, num_classes])\n",
    "            batch_labels = batch_labels[:, 0]  # Sequence-level labels (shape: [batch_size])\n",
    "\n",
    "            # Compute loss\n",
    "            loss = criterion(outputs, batch_labels)\n",
    "            loss.backward()\n",
    "            optimizer.step()\n",
    "\n",
    "    # Validation loop\n",
    "    model.eval()\n",
    "    val_loss = 0\n",
    "    correct = 0\n",
    "    total = 0\n",
    "    all_predictions = []\n",
    "    all_true_labels = []\n",
    "    with torch.no_grad():\n",
    "        for batch_features, batch_labels in val_loader:\n",
    "            outputs = model(batch_features)  # Shape: [batch_size, seq_len, num_classes]\n",
    "            outputs = outputs[:, 0, :]  # Pooling: use the first token for classification\n",
    "            batch_labels = batch_labels[:, 0]  # Sequence-level labels\n",
    "\n",
    "            # Compute loss\n",
    "            loss = criterion(outputs, batch_labels)\n",
    "            val_loss += loss.item()\n",
    "\n",
    "            # Predictions and metrics\n",
    "            predictions = torch.argmax(outputs, dim=1)\n",
    "            correct += (predictions == batch_labels).sum().item()\n",
    "            total += batch_labels.size(0)\n",
    "            all_predictions.extend(predictions.cpu().numpy())\n",
    "            all_true_labels.extend(batch_labels.cpu().numpy())\n",
    "\n",
    "    # Calculate metrics\n",
    "    val_accuracy = correct / total if total > 0 else 0\n",
    "    precision = precision_score(all_true_labels, all_predictions, average='macro')\n",
    "    recall = recall_score(all_true_labels, all_predictions, average='macro')\n",
    "    f1 = f1_score(all_true_labels, all_predictions, average='macro')\n",
    "\n",
    "    return val_accuracy, precision, recall, f1\n",
    "\n",
    "# Perform grid search\n",
    "for hidden_dim, num_layer, dropout, lr in param_grid:\n",
    "    print(f\"Testing: hidden_dim={hidden_dim}, num_layers={num_layer}, dropout={dropout}, lr={lr}\")\n",
    "    val_accuracy, precision, recall, f1 = train_and_evaluate(hidden_dim, num_layer, dropout, lr)\n",
    "    print(f\"Validation Accuracy: {val_accuracy:.4f}, Precision: {precision:.4f}, Recall: {recall:.4f}, F1-Score: {f1:.4f}\")\n",
    "\n",
    "    # Update best configuration (use F1-Score as the priority metric)\n",
    "    if f1 > best_val_accuracy:\n",
    "        best_val_accuracy = f1\n",
    "        best_params = (hidden_dim, num_layer, dropout, lr)\n",
    "\n",
    "print(f\"Best Validation F1-Score: {best_val_accuracy:.4f}\")\n",
    "print(f\"Best Parameters: hidden_dim={best_params[0]}, num_layers={best_params[1]}, dropout={best_params[2]}, lr={best_params[3]}\")\n"
   ]
  },
  {
   "cell_type": "code",
   "execution_count": 144,
   "metadata": {},
   "outputs": [
    {
     "name": "stdout",
     "output_type": "stream",
     "text": [
      "Testing: hidden_dim=64, num_layers=1, dropout=0.2, lr=0.005\n"
     ]
    },
    {
     "name": "stderr",
     "output_type": "stream",
     "text": [
      "/Users/reolingovender/Library/Python/3.9/lib/python/site-packages/torch/nn/modules/rnn.py:123: UserWarning: dropout option adds dropout after all but last recurrent layer, so non-zero dropout expects num_layers greater than 1, but got dropout=0.2 and num_layers=1\n",
      "  warnings.warn(\n"
     ]
    },
    {
     "name": "stdout",
     "output_type": "stream",
     "text": [
      "Validation Accuracy: 0.6133, Precision: 0.6235, Recall: 0.6238, F1-Score: 0.6133\n",
      "Testing: hidden_dim=64, num_layers=1, dropout=0.2, lr=0.001\n"
     ]
    },
    {
     "name": "stderr",
     "output_type": "stream",
     "text": [
      "/Users/reolingovender/Library/Python/3.9/lib/python/site-packages/torch/nn/modules/rnn.py:123: UserWarning: dropout option adds dropout after all but last recurrent layer, so non-zero dropout expects num_layers greater than 1, but got dropout=0.2 and num_layers=1\n",
      "  warnings.warn(\n"
     ]
    },
    {
     "name": "stdout",
     "output_type": "stream",
     "text": [
      "Validation Accuracy: 0.6367, Precision: 0.6313, Recall: 0.6115, F1-Score: 0.6081\n",
      "Testing: hidden_dim=64, num_layers=1, dropout=0.2, lr=0.005\n"
     ]
    },
    {
     "name": "stderr",
     "output_type": "stream",
     "text": [
      "/Users/reolingovender/Library/Python/3.9/lib/python/site-packages/torch/nn/modules/rnn.py:123: UserWarning: dropout option adds dropout after all but last recurrent layer, so non-zero dropout expects num_layers greater than 1, but got dropout=0.2 and num_layers=1\n",
      "  warnings.warn(\n"
     ]
    },
    {
     "name": "stdout",
     "output_type": "stream",
     "text": [
      "Validation Accuracy: 0.6256, Precision: 0.6161, Recall: 0.6108, F1-Score: 0.6112\n",
      "Testing: hidden_dim=64, num_layers=1, dropout=0.3, lr=0.005\n"
     ]
    },
    {
     "name": "stderr",
     "output_type": "stream",
     "text": [
      "/Users/reolingovender/Library/Python/3.9/lib/python/site-packages/torch/nn/modules/rnn.py:123: UserWarning: dropout option adds dropout after all but last recurrent layer, so non-zero dropout expects num_layers greater than 1, but got dropout=0.3 and num_layers=1\n",
      "  warnings.warn(\n"
     ]
    },
    {
     "name": "stdout",
     "output_type": "stream",
     "text": [
      "Validation Accuracy: 0.6144, Precision: 0.6351, Recall: 0.6311, F1-Score: 0.6138\n",
      "Testing: hidden_dim=64, num_layers=1, dropout=0.3, lr=0.001\n"
     ]
    },
    {
     "name": "stderr",
     "output_type": "stream",
     "text": [
      "/Users/reolingovender/Library/Python/3.9/lib/python/site-packages/torch/nn/modules/rnn.py:123: UserWarning: dropout option adds dropout after all but last recurrent layer, so non-zero dropout expects num_layers greater than 1, but got dropout=0.3 and num_layers=1\n",
      "  warnings.warn(\n"
     ]
    },
    {
     "name": "stdout",
     "output_type": "stream",
     "text": [
      "Validation Accuracy: 0.6389, Precision: 0.6339, Recall: 0.6138, F1-Score: 0.6105\n",
      "Testing: hidden_dim=64, num_layers=1, dropout=0.3, lr=0.005\n"
     ]
    },
    {
     "name": "stderr",
     "output_type": "stream",
     "text": [
      "/Users/reolingovender/Library/Python/3.9/lib/python/site-packages/torch/nn/modules/rnn.py:123: UserWarning: dropout option adds dropout after all but last recurrent layer, so non-zero dropout expects num_layers greater than 1, but got dropout=0.3 and num_layers=1\n",
      "  warnings.warn(\n"
     ]
    },
    {
     "name": "stdout",
     "output_type": "stream",
     "text": [
      "Validation Accuracy: 0.6311, Precision: 0.6309, Recall: 0.5991, F1-Score: 0.5890\n",
      "Testing: hidden_dim=64, num_layers=1, dropout=0.5, lr=0.005\n"
     ]
    },
    {
     "name": "stderr",
     "output_type": "stream",
     "text": [
      "/Users/reolingovender/Library/Python/3.9/lib/python/site-packages/torch/nn/modules/rnn.py:123: UserWarning: dropout option adds dropout after all but last recurrent layer, so non-zero dropout expects num_layers greater than 1, but got dropout=0.5 and num_layers=1\n",
      "  warnings.warn(\n"
     ]
    },
    {
     "name": "stdout",
     "output_type": "stream",
     "text": [
      "Validation Accuracy: 0.6400, Precision: 0.6316, Recall: 0.6238, F1-Score: 0.6243\n",
      "Testing: hidden_dim=64, num_layers=1, dropout=0.5, lr=0.001\n"
     ]
    },
    {
     "name": "stderr",
     "output_type": "stream",
     "text": [
      "/Users/reolingovender/Library/Python/3.9/lib/python/site-packages/torch/nn/modules/rnn.py:123: UserWarning: dropout option adds dropout after all but last recurrent layer, so non-zero dropout expects num_layers greater than 1, but got dropout=0.5 and num_layers=1\n",
      "  warnings.warn(\n"
     ]
    },
    {
     "name": "stdout",
     "output_type": "stream",
     "text": [
      "Validation Accuracy: 0.6189, Precision: 0.6097, Recall: 0.6067, F1-Score: 0.6072\n",
      "Testing: hidden_dim=64, num_layers=1, dropout=0.5, lr=0.005\n"
     ]
    },
    {
     "name": "stderr",
     "output_type": "stream",
     "text": [
      "/Users/reolingovender/Library/Python/3.9/lib/python/site-packages/torch/nn/modules/rnn.py:123: UserWarning: dropout option adds dropout after all but last recurrent layer, so non-zero dropout expects num_layers greater than 1, but got dropout=0.5 and num_layers=1\n",
      "  warnings.warn(\n"
     ]
    },
    {
     "name": "stdout",
     "output_type": "stream",
     "text": [
      "Validation Accuracy: 0.6211, Precision: 0.6394, Recall: 0.5776, F1-Score: 0.5475\n",
      "Testing: hidden_dim=64, num_layers=2, dropout=0.2, lr=0.005\n",
      "Validation Accuracy: 0.6256, Precision: 0.6165, Recall: 0.6129, F1-Score: 0.6135\n",
      "Testing: hidden_dim=64, num_layers=2, dropout=0.2, lr=0.001\n",
      "Validation Accuracy: 0.6200, Precision: 0.6149, Recall: 0.5890, F1-Score: 0.5793\n",
      "Testing: hidden_dim=64, num_layers=2, dropout=0.2, lr=0.005\n",
      "Validation Accuracy: 0.6322, Precision: 0.6237, Recall: 0.6206, F1-Score: 0.6213\n",
      "Testing: hidden_dim=64, num_layers=2, dropout=0.3, lr=0.005\n",
      "Validation Accuracy: 0.6222, Precision: 0.6167, Recall: 0.5925, F1-Score: 0.5842\n",
      "Testing: hidden_dim=64, num_layers=2, dropout=0.3, lr=0.001\n",
      "Validation Accuracy: 0.6222, Precision: 0.6192, Recall: 0.6211, F1-Score: 0.6191\n",
      "Testing: hidden_dim=64, num_layers=2, dropout=0.3, lr=0.005\n",
      "Validation Accuracy: 0.6211, Precision: 0.6129, Recall: 0.6114, F1-Score: 0.6119\n",
      "Testing: hidden_dim=64, num_layers=2, dropout=0.5, lr=0.005\n",
      "Validation Accuracy: 0.6322, Precision: 0.6259, Recall: 0.6070, F1-Score: 0.6033\n",
      "Testing: hidden_dim=64, num_layers=2, dropout=0.5, lr=0.001\n",
      "Validation Accuracy: 0.6322, Precision: 0.6268, Recall: 0.6278, F1-Score: 0.6271\n",
      "Testing: hidden_dim=64, num_layers=2, dropout=0.5, lr=0.005\n",
      "Validation Accuracy: 0.6044, Precision: 0.6284, Recall: 0.6229, F1-Score: 0.6032\n",
      "Testing: hidden_dim=64, num_layers=3, dropout=0.2, lr=0.005\n"
     ]
    },
    {
     "name": "stderr",
     "output_type": "stream",
     "text": [
      "/Users/reolingovender/Library/Python/3.9/lib/python/site-packages/sklearn/metrics/_classification.py:1531: UndefinedMetricWarning: Precision is ill-defined and being set to 0.0 in labels with no predicted samples. Use `zero_division` parameter to control this behavior.\n",
      "  _warn_prf(average, modifier, f\"{metric.capitalize()} is\", len(result))\n"
     ]
    },
    {
     "name": "stdout",
     "output_type": "stream",
     "text": [
      "Validation Accuracy: 0.5667, Precision: 0.2833, Recall: 0.5000, F1-Score: 0.3617\n",
      "Testing: hidden_dim=64, num_layers=3, dropout=0.2, lr=0.001\n",
      "Validation Accuracy: 0.6078, Precision: 0.6105, Recall: 0.6123, F1-Score: 0.6069\n",
      "Testing: hidden_dim=64, num_layers=3, dropout=0.2, lr=0.005\n"
     ]
    },
    {
     "name": "stderr",
     "output_type": "stream",
     "text": [
      "/Users/reolingovender/Library/Python/3.9/lib/python/site-packages/sklearn/metrics/_classification.py:1531: UndefinedMetricWarning: Precision is ill-defined and being set to 0.0 in labels with no predicted samples. Use `zero_division` parameter to control this behavior.\n",
      "  _warn_prf(average, modifier, f\"{metric.capitalize()} is\", len(result))\n"
     ]
    },
    {
     "name": "stdout",
     "output_type": "stream",
     "text": [
      "Validation Accuracy: 0.5667, Precision: 0.2833, Recall: 0.5000, F1-Score: 0.3617\n",
      "Testing: hidden_dim=64, num_layers=3, dropout=0.3, lr=0.005\n",
      "Validation Accuracy: 0.6033, Precision: 0.6334, Recall: 0.6247, F1-Score: 0.6010\n",
      "Testing: hidden_dim=64, num_layers=3, dropout=0.3, lr=0.001\n",
      "Validation Accuracy: 0.6311, Precision: 0.6220, Recall: 0.6154, F1-Score: 0.6157\n",
      "Testing: hidden_dim=64, num_layers=3, dropout=0.3, lr=0.005\n"
     ]
    },
    {
     "name": "stderr",
     "output_type": "stream",
     "text": [
      "/Users/reolingovender/Library/Python/3.9/lib/python/site-packages/sklearn/metrics/_classification.py:1531: UndefinedMetricWarning: Precision is ill-defined and being set to 0.0 in labels with no predicted samples. Use `zero_division` parameter to control this behavior.\n",
      "  _warn_prf(average, modifier, f\"{metric.capitalize()} is\", len(result))\n"
     ]
    },
    {
     "name": "stdout",
     "output_type": "stream",
     "text": [
      "Validation Accuracy: 0.5667, Precision: 0.2833, Recall: 0.5000, F1-Score: 0.3617\n",
      "Testing: hidden_dim=64, num_layers=3, dropout=0.5, lr=0.005\n"
     ]
    },
    {
     "name": "stderr",
     "output_type": "stream",
     "text": [
      "/Users/reolingovender/Library/Python/3.9/lib/python/site-packages/sklearn/metrics/_classification.py:1531: UndefinedMetricWarning: Precision is ill-defined and being set to 0.0 in labels with no predicted samples. Use `zero_division` parameter to control this behavior.\n",
      "  _warn_prf(average, modifier, f\"{metric.capitalize()} is\", len(result))\n"
     ]
    },
    {
     "name": "stdout",
     "output_type": "stream",
     "text": [
      "Validation Accuracy: 0.5667, Precision: 0.2833, Recall: 0.5000, F1-Score: 0.3617\n",
      "Testing: hidden_dim=64, num_layers=3, dropout=0.5, lr=0.001\n",
      "Validation Accuracy: 0.5767, Precision: 0.6146, Recall: 0.5146, F1-Score: 0.4074\n",
      "Testing: hidden_dim=64, num_layers=3, dropout=0.5, lr=0.005\n"
     ]
    },
    {
     "name": "stderr",
     "output_type": "stream",
     "text": [
      "/Users/reolingovender/Library/Python/3.9/lib/python/site-packages/sklearn/metrics/_classification.py:1531: UndefinedMetricWarning: Precision is ill-defined and being set to 0.0 in labels with no predicted samples. Use `zero_division` parameter to control this behavior.\n",
      "  _warn_prf(average, modifier, f\"{metric.capitalize()} is\", len(result))\n",
      "/Users/reolingovender/Library/Python/3.9/lib/python/site-packages/torch/nn/modules/rnn.py:123: UserWarning: dropout option adds dropout after all but last recurrent layer, so non-zero dropout expects num_layers greater than 1, but got dropout=0.2 and num_layers=1\n",
      "  warnings.warn(\n"
     ]
    },
    {
     "name": "stdout",
     "output_type": "stream",
     "text": [
      "Validation Accuracy: 0.5667, Precision: 0.2833, Recall: 0.5000, F1-Score: 0.3617\n",
      "Testing: hidden_dim=128, num_layers=1, dropout=0.2, lr=0.005\n",
      "Validation Accuracy: 0.6411, Precision: 0.6397, Recall: 0.6127, F1-Score: 0.6070\n",
      "Testing: hidden_dim=128, num_layers=1, dropout=0.2, lr=0.001\n"
     ]
    },
    {
     "name": "stderr",
     "output_type": "stream",
     "text": [
      "/Users/reolingovender/Library/Python/3.9/lib/python/site-packages/torch/nn/modules/rnn.py:123: UserWarning: dropout option adds dropout after all but last recurrent layer, so non-zero dropout expects num_layers greater than 1, but got dropout=0.2 and num_layers=1\n",
      "  warnings.warn(\n"
     ]
    },
    {
     "name": "stdout",
     "output_type": "stream",
     "text": [
      "Validation Accuracy: 0.6289, Precision: 0.6292, Recall: 0.6315, F1-Score: 0.6273\n",
      "Testing: hidden_dim=128, num_layers=1, dropout=0.2, lr=0.005\n"
     ]
    },
    {
     "name": "stderr",
     "output_type": "stream",
     "text": [
      "/Users/reolingovender/Library/Python/3.9/lib/python/site-packages/torch/nn/modules/rnn.py:123: UserWarning: dropout option adds dropout after all but last recurrent layer, so non-zero dropout expects num_layers greater than 1, but got dropout=0.2 and num_layers=1\n",
      "  warnings.warn(\n"
     ]
    },
    {
     "name": "stdout",
     "output_type": "stream",
     "text": [
      "Validation Accuracy: 0.6467, Precision: 0.6388, Recall: 0.6312, F1-Score: 0.6319\n",
      "Testing: hidden_dim=128, num_layers=1, dropout=0.3, lr=0.005\n"
     ]
    },
    {
     "name": "stderr",
     "output_type": "stream",
     "text": [
      "/Users/reolingovender/Library/Python/3.9/lib/python/site-packages/torch/nn/modules/rnn.py:123: UserWarning: dropout option adds dropout after all but last recurrent layer, so non-zero dropout expects num_layers greater than 1, but got dropout=0.3 and num_layers=1\n",
      "  warnings.warn(\n"
     ]
    },
    {
     "name": "stdout",
     "output_type": "stream",
     "text": [
      "Validation Accuracy: 0.6322, Precision: 0.6232, Recall: 0.6152, F1-Score: 0.6153\n",
      "Testing: hidden_dim=128, num_layers=1, dropout=0.3, lr=0.001\n"
     ]
    },
    {
     "name": "stderr",
     "output_type": "stream",
     "text": [
      "/Users/reolingovender/Library/Python/3.9/lib/python/site-packages/torch/nn/modules/rnn.py:123: UserWarning: dropout option adds dropout after all but last recurrent layer, so non-zero dropout expects num_layers greater than 1, but got dropout=0.3 and num_layers=1\n",
      "  warnings.warn(\n"
     ]
    },
    {
     "name": "stdout",
     "output_type": "stream",
     "text": [
      "Validation Accuracy: 0.6267, Precision: 0.6336, Recall: 0.6350, F1-Score: 0.6265\n",
      "Testing: hidden_dim=128, num_layers=1, dropout=0.3, lr=0.005\n"
     ]
    },
    {
     "name": "stderr",
     "output_type": "stream",
     "text": [
      "/Users/reolingovender/Library/Python/3.9/lib/python/site-packages/torch/nn/modules/rnn.py:123: UserWarning: dropout option adds dropout after all but last recurrent layer, so non-zero dropout expects num_layers greater than 1, but got dropout=0.3 and num_layers=1\n",
      "  warnings.warn(\n"
     ]
    },
    {
     "name": "stdout",
     "output_type": "stream",
     "text": [
      "Validation Accuracy: 0.6444, Precision: 0.6387, Recall: 0.6220, F1-Score: 0.6205\n",
      "Testing: hidden_dim=128, num_layers=1, dropout=0.5, lr=0.005\n"
     ]
    },
    {
     "name": "stderr",
     "output_type": "stream",
     "text": [
      "/Users/reolingovender/Library/Python/3.9/lib/python/site-packages/torch/nn/modules/rnn.py:123: UserWarning: dropout option adds dropout after all but last recurrent layer, so non-zero dropout expects num_layers greater than 1, but got dropout=0.5 and num_layers=1\n",
      "  warnings.warn(\n"
     ]
    },
    {
     "name": "stdout",
     "output_type": "stream",
     "text": [
      "Validation Accuracy: 0.6389, Precision: 0.6314, Recall: 0.6183, F1-Score: 0.6175\n",
      "Testing: hidden_dim=128, num_layers=1, dropout=0.5, lr=0.001\n"
     ]
    },
    {
     "name": "stderr",
     "output_type": "stream",
     "text": [
      "/Users/reolingovender/Library/Python/3.9/lib/python/site-packages/torch/nn/modules/rnn.py:123: UserWarning: dropout option adds dropout after all but last recurrent layer, so non-zero dropout expects num_layers greater than 1, but got dropout=0.5 and num_layers=1\n",
      "  warnings.warn(\n"
     ]
    },
    {
     "name": "stdout",
     "output_type": "stream",
     "text": [
      "Validation Accuracy: 0.6189, Precision: 0.6113, Recall: 0.6106, F1-Score: 0.6109\n",
      "Testing: hidden_dim=128, num_layers=1, dropout=0.5, lr=0.005\n"
     ]
    },
    {
     "name": "stderr",
     "output_type": "stream",
     "text": [
      "/Users/reolingovender/Library/Python/3.9/lib/python/site-packages/torch/nn/modules/rnn.py:123: UserWarning: dropout option adds dropout after all but last recurrent layer, so non-zero dropout expects num_layers greater than 1, but got dropout=0.5 and num_layers=1\n",
      "  warnings.warn(\n"
     ]
    },
    {
     "name": "stdout",
     "output_type": "stream",
     "text": [
      "Validation Accuracy: 0.6289, Precision: 0.6223, Recall: 0.6225, F1-Score: 0.6224\n",
      "Testing: hidden_dim=128, num_layers=2, dropout=0.2, lr=0.005\n",
      "Validation Accuracy: 0.6122, Precision: 0.6016, Recall: 0.5960, F1-Score: 0.5959\n",
      "Testing: hidden_dim=128, num_layers=2, dropout=0.2, lr=0.001\n",
      "Validation Accuracy: 0.6167, Precision: 0.6068, Recall: 0.6023, F1-Score: 0.6027\n",
      "Testing: hidden_dim=128, num_layers=2, dropout=0.2, lr=0.005\n",
      "Validation Accuracy: 0.6344, Precision: 0.6319, Recall: 0.6054, F1-Score: 0.5986\n",
      "Testing: hidden_dim=128, num_layers=2, dropout=0.3, lr=0.005\n",
      "Validation Accuracy: 0.6144, Precision: 0.6189, Recall: 0.6206, F1-Score: 0.6139\n",
      "Testing: hidden_dim=128, num_layers=2, dropout=0.3, lr=0.001\n",
      "Validation Accuracy: 0.6300, Precision: 0.6293, Recall: 0.5981, F1-Score: 0.5881\n",
      "Testing: hidden_dim=128, num_layers=2, dropout=0.3, lr=0.005\n",
      "Validation Accuracy: 0.6256, Precision: 0.6227, Recall: 0.6247, F1-Score: 0.6225\n",
      "Testing: hidden_dim=128, num_layers=2, dropout=0.5, lr=0.005\n"
     ]
    },
    {
     "name": "stderr",
     "output_type": "stream",
     "text": [
      "/Users/reolingovender/Library/Python/3.9/lib/python/site-packages/sklearn/metrics/_classification.py:1531: UndefinedMetricWarning: Precision is ill-defined and being set to 0.0 in labels with no predicted samples. Use `zero_division` parameter to control this behavior.\n",
      "  _warn_prf(average, modifier, f\"{metric.capitalize()} is\", len(result))\n"
     ]
    },
    {
     "name": "stdout",
     "output_type": "stream",
     "text": [
      "Validation Accuracy: 0.5667, Precision: 0.2833, Recall: 0.5000, F1-Score: 0.3617\n",
      "Testing: hidden_dim=128, num_layers=2, dropout=0.5, lr=0.001\n",
      "Validation Accuracy: 0.6389, Precision: 0.6311, Recall: 0.6192, F1-Score: 0.6187\n",
      "Testing: hidden_dim=128, num_layers=2, dropout=0.5, lr=0.005\n",
      "Validation Accuracy: 0.6089, Precision: 0.5981, Recall: 0.5828, F1-Score: 0.5773\n",
      "Testing: hidden_dim=128, num_layers=3, dropout=0.2, lr=0.005\n"
     ]
    },
    {
     "name": "stderr",
     "output_type": "stream",
     "text": [
      "/Users/reolingovender/Library/Python/3.9/lib/python/site-packages/sklearn/metrics/_classification.py:1531: UndefinedMetricWarning: Precision is ill-defined and being set to 0.0 in labels with no predicted samples. Use `zero_division` parameter to control this behavior.\n",
      "  _warn_prf(average, modifier, f\"{metric.capitalize()} is\", len(result))\n"
     ]
    },
    {
     "name": "stdout",
     "output_type": "stream",
     "text": [
      "Validation Accuracy: 0.5667, Precision: 0.2833, Recall: 0.5000, F1-Score: 0.3617\n",
      "Testing: hidden_dim=128, num_layers=3, dropout=0.2, lr=0.001\n"
     ]
    },
    {
     "name": "stderr",
     "output_type": "stream",
     "text": [
      "/Users/reolingovender/Library/Python/3.9/lib/python/site-packages/sklearn/metrics/_classification.py:1531: UndefinedMetricWarning: Precision is ill-defined and being set to 0.0 in labels with no predicted samples. Use `zero_division` parameter to control this behavior.\n",
      "  _warn_prf(average, modifier, f\"{metric.capitalize()} is\", len(result))\n"
     ]
    },
    {
     "name": "stdout",
     "output_type": "stream",
     "text": [
      "Validation Accuracy: 0.5667, Precision: 0.2833, Recall: 0.5000, F1-Score: 0.3617\n",
      "Testing: hidden_dim=128, num_layers=3, dropout=0.2, lr=0.005\n",
      "Validation Accuracy: 0.6111, Precision: 0.6032, Recall: 0.6026, F1-Score: 0.6028\n",
      "Testing: hidden_dim=128, num_layers=3, dropout=0.3, lr=0.005\n"
     ]
    },
    {
     "name": "stderr",
     "output_type": "stream",
     "text": [
      "/Users/reolingovender/Library/Python/3.9/lib/python/site-packages/sklearn/metrics/_classification.py:1531: UndefinedMetricWarning: Precision is ill-defined and being set to 0.0 in labels with no predicted samples. Use `zero_division` parameter to control this behavior.\n",
      "  _warn_prf(average, modifier, f\"{metric.capitalize()} is\", len(result))\n"
     ]
    },
    {
     "name": "stdout",
     "output_type": "stream",
     "text": [
      "Validation Accuracy: 0.5667, Precision: 0.2833, Recall: 0.5000, F1-Score: 0.3617\n",
      "Testing: hidden_dim=128, num_layers=3, dropout=0.3, lr=0.001\n",
      "Validation Accuracy: 0.5978, Precision: 0.6061, Recall: 0.6068, F1-Score: 0.5977\n",
      "Testing: hidden_dim=128, num_layers=3, dropout=0.3, lr=0.005\n"
     ]
    },
    {
     "name": "stderr",
     "output_type": "stream",
     "text": [
      "/Users/reolingovender/Library/Python/3.9/lib/python/site-packages/sklearn/metrics/_classification.py:1531: UndefinedMetricWarning: Precision is ill-defined and being set to 0.0 in labels with no predicted samples. Use `zero_division` parameter to control this behavior.\n",
      "  _warn_prf(average, modifier, f\"{metric.capitalize()} is\", len(result))\n"
     ]
    },
    {
     "name": "stdout",
     "output_type": "stream",
     "text": [
      "Validation Accuracy: 0.5667, Precision: 0.2833, Recall: 0.5000, F1-Score: 0.3617\n",
      "Testing: hidden_dim=128, num_layers=3, dropout=0.5, lr=0.005\n"
     ]
    },
    {
     "name": "stderr",
     "output_type": "stream",
     "text": [
      "/Users/reolingovender/Library/Python/3.9/lib/python/site-packages/sklearn/metrics/_classification.py:1531: UndefinedMetricWarning: Precision is ill-defined and being set to 0.0 in labels with no predicted samples. Use `zero_division` parameter to control this behavior.\n",
      "  _warn_prf(average, modifier, f\"{metric.capitalize()} is\", len(result))\n"
     ]
    },
    {
     "name": "stdout",
     "output_type": "stream",
     "text": [
      "Validation Accuracy: 0.5667, Precision: 0.2833, Recall: 0.5000, F1-Score: 0.3617\n",
      "Testing: hidden_dim=128, num_layers=3, dropout=0.5, lr=0.001\n"
     ]
    },
    {
     "name": "stderr",
     "output_type": "stream",
     "text": [
      "/Users/reolingovender/Library/Python/3.9/lib/python/site-packages/sklearn/metrics/_classification.py:1531: UndefinedMetricWarning: Precision is ill-defined and being set to 0.0 in labels with no predicted samples. Use `zero_division` parameter to control this behavior.\n",
      "  _warn_prf(average, modifier, f\"{metric.capitalize()} is\", len(result))\n"
     ]
    },
    {
     "name": "stdout",
     "output_type": "stream",
     "text": [
      "Validation Accuracy: 0.5667, Precision: 0.2833, Recall: 0.5000, F1-Score: 0.3617\n",
      "Testing: hidden_dim=128, num_layers=3, dropout=0.5, lr=0.005\n"
     ]
    },
    {
     "name": "stderr",
     "output_type": "stream",
     "text": [
      "/Users/reolingovender/Library/Python/3.9/lib/python/site-packages/sklearn/metrics/_classification.py:1531: UndefinedMetricWarning: Precision is ill-defined and being set to 0.0 in labels with no predicted samples. Use `zero_division` parameter to control this behavior.\n",
      "  _warn_prf(average, modifier, f\"{metric.capitalize()} is\", len(result))\n",
      "/Users/reolingovender/Library/Python/3.9/lib/python/site-packages/torch/nn/modules/rnn.py:123: UserWarning: dropout option adds dropout after all but last recurrent layer, so non-zero dropout expects num_layers greater than 1, but got dropout=0.2 and num_layers=1\n",
      "  warnings.warn(\n"
     ]
    },
    {
     "name": "stdout",
     "output_type": "stream",
     "text": [
      "Validation Accuracy: 0.5667, Precision: 0.2833, Recall: 0.5000, F1-Score: 0.3617\n",
      "Testing: hidden_dim=256, num_layers=1, dropout=0.2, lr=0.005\n",
      "Validation Accuracy: 0.6233, Precision: 0.6135, Recall: 0.6055, F1-Score: 0.6052\n",
      "Testing: hidden_dim=256, num_layers=1, dropout=0.2, lr=0.001\n"
     ]
    },
    {
     "name": "stderr",
     "output_type": "stream",
     "text": [
      "/Users/reolingovender/Library/Python/3.9/lib/python/site-packages/torch/nn/modules/rnn.py:123: UserWarning: dropout option adds dropout after all but last recurrent layer, so non-zero dropout expects num_layers greater than 1, but got dropout=0.2 and num_layers=1\n",
      "  warnings.warn(\n"
     ]
    },
    {
     "name": "stdout",
     "output_type": "stream",
     "text": [
      "Validation Accuracy: 0.6167, Precision: 0.6243, Recall: 0.5758, F1-Score: 0.5506\n",
      "Testing: hidden_dim=256, num_layers=1, dropout=0.2, lr=0.005\n"
     ]
    },
    {
     "name": "stderr",
     "output_type": "stream",
     "text": [
      "/Users/reolingovender/Library/Python/3.9/lib/python/site-packages/torch/nn/modules/rnn.py:123: UserWarning: dropout option adds dropout after all but last recurrent layer, so non-zero dropout expects num_layers greater than 1, but got dropout=0.2 and num_layers=1\n",
      "  warnings.warn(\n"
     ]
    },
    {
     "name": "stdout",
     "output_type": "stream",
     "text": [
      "Validation Accuracy: 0.6300, Precision: 0.6299, Recall: 0.6322, F1-Score: 0.6283\n",
      "Testing: hidden_dim=256, num_layers=1, dropout=0.3, lr=0.005\n"
     ]
    },
    {
     "name": "stderr",
     "output_type": "stream",
     "text": [
      "/Users/reolingovender/Library/Python/3.9/lib/python/site-packages/torch/nn/modules/rnn.py:123: UserWarning: dropout option adds dropout after all but last recurrent layer, so non-zero dropout expects num_layers greater than 1, but got dropout=0.3 and num_layers=1\n",
      "  warnings.warn(\n"
     ]
    },
    {
     "name": "stdout",
     "output_type": "stream",
     "text": [
      "Validation Accuracy: 0.6344, Precision: 0.6259, Recall: 0.6219, F1-Score: 0.6227\n",
      "Testing: hidden_dim=256, num_layers=1, dropout=0.3, lr=0.001\n"
     ]
    },
    {
     "name": "stderr",
     "output_type": "stream",
     "text": [
      "/Users/reolingovender/Library/Python/3.9/lib/python/site-packages/torch/nn/modules/rnn.py:123: UserWarning: dropout option adds dropout after all but last recurrent layer, so non-zero dropout expects num_layers greater than 1, but got dropout=0.3 and num_layers=1\n",
      "  warnings.warn(\n"
     ]
    },
    {
     "name": "stdout",
     "output_type": "stream",
     "text": [
      "Validation Accuracy: 0.6300, Precision: 0.6266, Recall: 0.6005, F1-Score: 0.5931\n",
      "Testing: hidden_dim=256, num_layers=1, dropout=0.3, lr=0.005\n"
     ]
    },
    {
     "name": "stderr",
     "output_type": "stream",
     "text": [
      "/Users/reolingovender/Library/Python/3.9/lib/python/site-packages/torch/nn/modules/rnn.py:123: UserWarning: dropout option adds dropout after all but last recurrent layer, so non-zero dropout expects num_layers greater than 1, but got dropout=0.3 and num_layers=1\n",
      "  warnings.warn(\n",
      "/Users/reolingovender/Library/Python/3.9/lib/python/site-packages/sklearn/metrics/_classification.py:1531: UndefinedMetricWarning: Precision is ill-defined and being set to 0.0 in labels with no predicted samples. Use `zero_division` parameter to control this behavior.\n",
      "  _warn_prf(average, modifier, f\"{metric.capitalize()} is\", len(result))\n",
      "/Users/reolingovender/Library/Python/3.9/lib/python/site-packages/torch/nn/modules/rnn.py:123: UserWarning: dropout option adds dropout after all but last recurrent layer, so non-zero dropout expects num_layers greater than 1, but got dropout=0.5 and num_layers=1\n",
      "  warnings.warn(\n"
     ]
    },
    {
     "name": "stdout",
     "output_type": "stream",
     "text": [
      "Validation Accuracy: 0.5667, Precision: 0.2833, Recall: 0.5000, F1-Score: 0.3617\n",
      "Testing: hidden_dim=256, num_layers=1, dropout=0.5, lr=0.005\n",
      "Validation Accuracy: 0.6278, Precision: 0.6288, Recall: 0.6311, F1-Score: 0.6265\n",
      "Testing: hidden_dim=256, num_layers=1, dropout=0.5, lr=0.001\n"
     ]
    },
    {
     "name": "stderr",
     "output_type": "stream",
     "text": [
      "/Users/reolingovender/Library/Python/3.9/lib/python/site-packages/torch/nn/modules/rnn.py:123: UserWarning: dropout option adds dropout after all but last recurrent layer, so non-zero dropout expects num_layers greater than 1, but got dropout=0.5 and num_layers=1\n",
      "  warnings.warn(\n"
     ]
    },
    {
     "name": "stdout",
     "output_type": "stream",
     "text": [
      "Validation Accuracy: 0.6300, Precision: 0.6235, Recall: 0.6238, F1-Score: 0.6236\n",
      "Testing: hidden_dim=256, num_layers=1, dropout=0.5, lr=0.005\n"
     ]
    },
    {
     "name": "stderr",
     "output_type": "stream",
     "text": [
      "/Users/reolingovender/Library/Python/3.9/lib/python/site-packages/torch/nn/modules/rnn.py:123: UserWarning: dropout option adds dropout after all but last recurrent layer, so non-zero dropout expects num_layers greater than 1, but got dropout=0.5 and num_layers=1\n",
      "  warnings.warn(\n"
     ]
    },
    {
     "name": "stdout",
     "output_type": "stream",
     "text": [
      "Validation Accuracy: 0.6300, Precision: 0.6252, Recall: 0.6020, F1-Score: 0.5960\n",
      "Testing: hidden_dim=256, num_layers=2, dropout=0.2, lr=0.005\n"
     ]
    },
    {
     "name": "stderr",
     "output_type": "stream",
     "text": [
      "/Users/reolingovender/Library/Python/3.9/lib/python/site-packages/sklearn/metrics/_classification.py:1531: UndefinedMetricWarning: Precision is ill-defined and being set to 0.0 in labels with no predicted samples. Use `zero_division` parameter to control this behavior.\n",
      "  _warn_prf(average, modifier, f\"{metric.capitalize()} is\", len(result))\n"
     ]
    },
    {
     "name": "stdout",
     "output_type": "stream",
     "text": [
      "Validation Accuracy: 0.5667, Precision: 0.2833, Recall: 0.5000, F1-Score: 0.3617\n",
      "Testing: hidden_dim=256, num_layers=2, dropout=0.2, lr=0.001\n",
      "Validation Accuracy: 0.6311, Precision: 0.6220, Recall: 0.6139, F1-Score: 0.6139\n",
      "Testing: hidden_dim=256, num_layers=2, dropout=0.2, lr=0.005\n",
      "Validation Accuracy: 0.6222, Precision: 0.6123, Recall: 0.6048, F1-Score: 0.6046\n",
      "Testing: hidden_dim=256, num_layers=2, dropout=0.3, lr=0.005\n"
     ]
    },
    {
     "name": "stderr",
     "output_type": "stream",
     "text": [
      "/Users/reolingovender/Library/Python/3.9/lib/python/site-packages/sklearn/metrics/_classification.py:1531: UndefinedMetricWarning: Precision is ill-defined and being set to 0.0 in labels with no predicted samples. Use `zero_division` parameter to control this behavior.\n",
      "  _warn_prf(average, modifier, f\"{metric.capitalize()} is\", len(result))\n"
     ]
    },
    {
     "name": "stdout",
     "output_type": "stream",
     "text": [
      "Validation Accuracy: 0.5667, Precision: 0.2833, Recall: 0.5000, F1-Score: 0.3617\n",
      "Testing: hidden_dim=256, num_layers=2, dropout=0.3, lr=0.001\n",
      "Validation Accuracy: 0.6200, Precision: 0.6395, Recall: 0.6360, F1-Score: 0.6195\n",
      "Testing: hidden_dim=256, num_layers=2, dropout=0.3, lr=0.005\n",
      "Validation Accuracy: 0.6100, Precision: 0.6242, Recall: 0.5645, F1-Score: 0.5281\n",
      "Testing: hidden_dim=256, num_layers=2, dropout=0.5, lr=0.005\n",
      "Validation Accuracy: 0.6089, Precision: 0.6002, Recall: 0.5988, F1-Score: 0.5992\n",
      "Testing: hidden_dim=256, num_layers=2, dropout=0.5, lr=0.001\n",
      "Validation Accuracy: 0.6289, Precision: 0.6203, Recall: 0.6074, F1-Score: 0.6058\n",
      "Testing: hidden_dim=256, num_layers=2, dropout=0.5, lr=0.005\n"
     ]
    },
    {
     "name": "stderr",
     "output_type": "stream",
     "text": [
      "/Users/reolingovender/Library/Python/3.9/lib/python/site-packages/sklearn/metrics/_classification.py:1531: UndefinedMetricWarning: Precision is ill-defined and being set to 0.0 in labels with no predicted samples. Use `zero_division` parameter to control this behavior.\n",
      "  _warn_prf(average, modifier, f\"{metric.capitalize()} is\", len(result))\n"
     ]
    },
    {
     "name": "stdout",
     "output_type": "stream",
     "text": [
      "Validation Accuracy: 0.5667, Precision: 0.2833, Recall: 0.5000, F1-Score: 0.3617\n",
      "Testing: hidden_dim=256, num_layers=3, dropout=0.2, lr=0.005\n"
     ]
    },
    {
     "name": "stderr",
     "output_type": "stream",
     "text": [
      "/Users/reolingovender/Library/Python/3.9/lib/python/site-packages/sklearn/metrics/_classification.py:1531: UndefinedMetricWarning: Precision is ill-defined and being set to 0.0 in labels with no predicted samples. Use `zero_division` parameter to control this behavior.\n",
      "  _warn_prf(average, modifier, f\"{metric.capitalize()} is\", len(result))\n"
     ]
    },
    {
     "name": "stdout",
     "output_type": "stream",
     "text": [
      "Validation Accuracy: 0.5667, Precision: 0.2833, Recall: 0.5000, F1-Score: 0.3617\n",
      "Testing: hidden_dim=256, num_layers=3, dropout=0.2, lr=0.001\n"
     ]
    },
    {
     "name": "stderr",
     "output_type": "stream",
     "text": [
      "/Users/reolingovender/Library/Python/3.9/lib/python/site-packages/sklearn/metrics/_classification.py:1531: UndefinedMetricWarning: Precision is ill-defined and being set to 0.0 in labels with no predicted samples. Use `zero_division` parameter to control this behavior.\n",
      "  _warn_prf(average, modifier, f\"{metric.capitalize()} is\", len(result))\n"
     ]
    },
    {
     "name": "stdout",
     "output_type": "stream",
     "text": [
      "Validation Accuracy: 0.5667, Precision: 0.2833, Recall: 0.5000, F1-Score: 0.3617\n",
      "Testing: hidden_dim=256, num_layers=3, dropout=0.2, lr=0.005\n"
     ]
    },
    {
     "name": "stderr",
     "output_type": "stream",
     "text": [
      "/Users/reolingovender/Library/Python/3.9/lib/python/site-packages/sklearn/metrics/_classification.py:1531: UndefinedMetricWarning: Precision is ill-defined and being set to 0.0 in labels with no predicted samples. Use `zero_division` parameter to control this behavior.\n",
      "  _warn_prf(average, modifier, f\"{metric.capitalize()} is\", len(result))\n"
     ]
    },
    {
     "name": "stdout",
     "output_type": "stream",
     "text": [
      "Validation Accuracy: 0.5667, Precision: 0.2833, Recall: 0.5000, F1-Score: 0.3617\n",
      "Testing: hidden_dim=256, num_layers=3, dropout=0.3, lr=0.005\n"
     ]
    },
    {
     "name": "stderr",
     "output_type": "stream",
     "text": [
      "/Users/reolingovender/Library/Python/3.9/lib/python/site-packages/sklearn/metrics/_classification.py:1531: UndefinedMetricWarning: Precision is ill-defined and being set to 0.0 in labels with no predicted samples. Use `zero_division` parameter to control this behavior.\n",
      "  _warn_prf(average, modifier, f\"{metric.capitalize()} is\", len(result))\n"
     ]
    },
    {
     "name": "stdout",
     "output_type": "stream",
     "text": [
      "Validation Accuracy: 0.5667, Precision: 0.2833, Recall: 0.5000, F1-Score: 0.3617\n",
      "Testing: hidden_dim=256, num_layers=3, dropout=0.3, lr=0.001\n",
      "Validation Accuracy: 0.6111, Precision: 0.6126, Recall: 0.5715, F1-Score: 0.5481\n",
      "Testing: hidden_dim=256, num_layers=3, dropout=0.3, lr=0.005\n",
      "Validation Accuracy: 0.4778, Precision: 0.6429, Recall: 0.5362, F1-Score: 0.3967\n",
      "Testing: hidden_dim=256, num_layers=3, dropout=0.5, lr=0.005\n"
     ]
    },
    {
     "name": "stderr",
     "output_type": "stream",
     "text": [
      "/Users/reolingovender/Library/Python/3.9/lib/python/site-packages/sklearn/metrics/_classification.py:1531: UndefinedMetricWarning: Precision is ill-defined and being set to 0.0 in labels with no predicted samples. Use `zero_division` parameter to control this behavior.\n",
      "  _warn_prf(average, modifier, f\"{metric.capitalize()} is\", len(result))\n"
     ]
    },
    {
     "name": "stdout",
     "output_type": "stream",
     "text": [
      "Validation Accuracy: 0.5667, Precision: 0.2833, Recall: 0.5000, F1-Score: 0.3617\n",
      "Testing: hidden_dim=256, num_layers=3, dropout=0.5, lr=0.001\n",
      "Validation Accuracy: 0.6067, Precision: 0.6079, Recall: 0.5655, F1-Score: 0.5385\n",
      "Testing: hidden_dim=256, num_layers=3, dropout=0.5, lr=0.005\n",
      "Validation Accuracy: 0.5667, Precision: 0.2833, Recall: 0.5000, F1-Score: 0.3617\n",
      "Best Validation F1-Score: 0.6319\n",
      "Best Parameters: hidden_dim=128, num_layers=1, dropout=0.2, lr=0.005\n"
     ]
    },
    {
     "name": "stderr",
     "output_type": "stream",
     "text": [
      "/Users/reolingovender/Library/Python/3.9/lib/python/site-packages/sklearn/metrics/_classification.py:1531: UndefinedMetricWarning: Precision is ill-defined and being set to 0.0 in labels with no predicted samples. Use `zero_division` parameter to control this behavior.\n",
      "  _warn_prf(average, modifier, f\"{metric.capitalize()} is\", len(result))\n"
     ]
    }
   ],
   "source": [
    "import itertools\n",
    "import torch\n",
    "import torch.nn as nn\n",
    "from sklearn.metrics import precision_score, recall_score, f1_score\n",
    "from torch.utils.data import DataLoader\n",
    "\n",
    "# Define hyperparameter grid\n",
    "hidden_dims = [64, 128, 256]\n",
    "num_layers = [1, 2, 3]\n",
    "dropouts = [0.2, 0.3, 0.5]\n",
    "learning_rates = [0.005, 0.001, 0.005]\n",
    "\n",
    "# Cartesian product of hyperparameter combinations\n",
    "param_grid = list(itertools.product(hidden_dims, num_layers, dropouts, learning_rates))\n",
    "\n",
    "# Example validation DataLoader\n",
    "val_loader = DataLoader(val_dataset, batch_size=16, shuffle=False)\n",
    "\n",
    "# Best configuration tracking\n",
    "best_f1 = 0\n",
    "best_params = None\n",
    "input_dim = X_train.shape[2]  # Number of features\n",
    "output_dim = 2  # Number of classes\n",
    "\n",
    "def train_and_evaluate(hidden_dim, num_layers, dropout, lr):\n",
    "    # Initialize the model\n",
    "    model = BiLSTMWithAttention(input_dim, hidden_dim, output_dim, num_layers=num_layers, dropout=dropout)\n",
    "    optimizer = torch.optim.Adam(model.parameters(), lr=lr)\n",
    "    criterion = nn.CrossEntropyLoss(ignore_index=-1)\n",
    "\n",
    "    # Training loop\n",
    "    model.train()\n",
    "    for epoch in range(10):  # Reduce epochs for faster grid search\n",
    "        for batch_features, batch_labels in train_loader:\n",
    "            batch_labels = batch_labels[:, 0]  # Sequence-level labels\n",
    "            optimizer.zero_grad()\n",
    "            outputs = model(batch_features)\n",
    "            loss = criterion(outputs, batch_labels)\n",
    "            loss.backward()\n",
    "            optimizer.step()\n",
    "\n",
    "    # Validation loop\n",
    "    model.eval()\n",
    "    correct = 0\n",
    "    total = 0\n",
    "    all_predictions = []\n",
    "    all_true_labels = []\n",
    "    with torch.no_grad():\n",
    "        for batch_features, batch_labels in val_loader:\n",
    "            outputs = model(batch_features)  # Shape: (batch_size, num_classes)\n",
    "            batch_labels = batch_labels[:, 0]  # Sequence-level labels\n",
    "\n",
    "            # Compute predictions\n",
    "            predictions = torch.argmax(outputs, dim=1)\n",
    "            correct += (predictions == batch_labels).sum().item()\n",
    "            total += batch_labels.size(0)\n",
    "            all_predictions.extend(predictions.cpu().numpy())\n",
    "            all_true_labels.extend(batch_labels.cpu().numpy())\n",
    "\n",
    "    # Calculate metrics\n",
    "    val_accuracy = correct / total if total > 0 else 0\n",
    "    precision = precision_score(all_true_labels, all_predictions, average=\"macro\")\n",
    "    recall = recall_score(all_true_labels, all_predictions, average=\"macro\")\n",
    "    f1 = f1_score(all_true_labels, all_predictions, average=\"macro\")\n",
    "\n",
    "    return val_accuracy, precision, recall, f1\n",
    "\n",
    "# Perform grid search\n",
    "for hidden_dim, num_layer, dropout, lr in param_grid:\n",
    "    print(f\"Testing: hidden_dim={hidden_dim}, num_layers={num_layer}, dropout={dropout}, lr={lr}\")\n",
    "    val_accuracy, precision, recall, f1 = train_and_evaluate(hidden_dim, num_layer, dropout, lr)\n",
    "    print(f\"Validation Accuracy: {val_accuracy:.4f}, Precision: {precision:.4f}, Recall: {recall:.4f}, F1-Score: {f1:.4f}\")\n",
    "\n",
    "    # Update best configuration based on F1-Score\n",
    "    if f1 > best_f1:\n",
    "        best_f1 = f1\n",
    "        best_params = (hidden_dim, num_layer, dropout, lr)\n",
    "\n",
    "print(f\"Best Validation F1-Score: {best_f1:.4f}\")\n",
    "print(f\"Best Parameters: hidden_dim={best_params[0]}, num_layers={best_params[1]}, dropout={best_params[2]}, lr={best_params[3]}\")\n"
   ]
  },
  {
   "cell_type": "code",
   "execution_count": 145,
   "metadata": {},
   "outputs": [
    {
     "name": "stderr",
     "output_type": "stream",
     "text": [
      "/Users/reolingovender/Library/Python/3.9/lib/python/site-packages/torch/nn/modules/rnn.py:123: UserWarning: dropout option adds dropout after all but last recurrent layer, so non-zero dropout expects num_layers greater than 1, but got dropout=0.2 and num_layers=1\n",
      "  warnings.warn(\n"
     ]
    },
    {
     "name": "stdout",
     "output_type": "stream",
     "text": [
      "Testing: hidden_dim=64, num_layers=1, dropout=0.2, lr=0.0005\n",
      "Validation Accuracy: 0.6178, Precision: 0.6080, Recall: 0.6036, F1-Score: 0.6040\n",
      "Testing: hidden_dim=64, num_layers=1, dropout=0.2, lr=0.001\n"
     ]
    },
    {
     "name": "stderr",
     "output_type": "stream",
     "text": [
      "/Users/reolingovender/Library/Python/3.9/lib/python/site-packages/torch/nn/modules/rnn.py:123: UserWarning: dropout option adds dropout after all but last recurrent layer, so non-zero dropout expects num_layers greater than 1, but got dropout=0.2 and num_layers=1\n",
      "  warnings.warn(\n"
     ]
    },
    {
     "name": "stdout",
     "output_type": "stream",
     "text": [
      "Validation Accuracy: 0.6256, Precision: 0.6205, Recall: 0.6216, F1-Score: 0.6208\n",
      "Testing: hidden_dim=64, num_layers=1, dropout=0.2, lr=0.005\n"
     ]
    },
    {
     "name": "stderr",
     "output_type": "stream",
     "text": [
      "/Users/reolingovender/Library/Python/3.9/lib/python/site-packages/torch/nn/modules/rnn.py:123: UserWarning: dropout option adds dropout after all but last recurrent layer, so non-zero dropout expects num_layers greater than 1, but got dropout=0.2 and num_layers=1\n",
      "  warnings.warn(\n"
     ]
    },
    {
     "name": "stdout",
     "output_type": "stream",
     "text": [
      "Validation Accuracy: 0.6333, Precision: 0.6282, Recall: 0.6068, F1-Score: 0.6021\n",
      "Testing: hidden_dim=64, num_layers=1, dropout=0.3, lr=0.0005\n"
     ]
    },
    {
     "name": "stderr",
     "output_type": "stream",
     "text": [
      "/Users/reolingovender/Library/Python/3.9/lib/python/site-packages/torch/nn/modules/rnn.py:123: UserWarning: dropout option adds dropout after all but last recurrent layer, so non-zero dropout expects num_layers greater than 1, but got dropout=0.3 and num_layers=1\n",
      "  warnings.warn(\n"
     ]
    },
    {
     "name": "stdout",
     "output_type": "stream",
     "text": [
      "Validation Accuracy: 0.6222, Precision: 0.6138, Recall: 0.5973, F1-Score: 0.5933\n",
      "Testing: hidden_dim=64, num_layers=1, dropout=0.3, lr=0.001\n"
     ]
    },
    {
     "name": "stderr",
     "output_type": "stream",
     "text": [
      "/Users/reolingovender/Library/Python/3.9/lib/python/site-packages/torch/nn/modules/rnn.py:123: UserWarning: dropout option adds dropout after all but last recurrent layer, so non-zero dropout expects num_layers greater than 1, but got dropout=0.3 and num_layers=1\n",
      "  warnings.warn(\n"
     ]
    },
    {
     "name": "stdout",
     "output_type": "stream",
     "text": [
      "Validation Accuracy: 0.6300, Precision: 0.6208, Recall: 0.6132, F1-Score: 0.6133\n",
      "Testing: hidden_dim=64, num_layers=1, dropout=0.3, lr=0.005\n"
     ]
    },
    {
     "name": "stderr",
     "output_type": "stream",
     "text": [
      "/Users/reolingovender/Library/Python/3.9/lib/python/site-packages/torch/nn/modules/rnn.py:123: UserWarning: dropout option adds dropout after all but last recurrent layer, so non-zero dropout expects num_layers greater than 1, but got dropout=0.3 and num_layers=1\n",
      "  warnings.warn(\n"
     ]
    },
    {
     "name": "stdout",
     "output_type": "stream",
     "text": [
      "Validation Accuracy: 0.6322, Precision: 0.6275, Recall: 0.6049, F1-Score: 0.5996\n",
      "Testing: hidden_dim=64, num_layers=1, dropout=0.4, lr=0.0005\n"
     ]
    },
    {
     "name": "stderr",
     "output_type": "stream",
     "text": [
      "/Users/reolingovender/Library/Python/3.9/lib/python/site-packages/torch/nn/modules/rnn.py:123: UserWarning: dropout option adds dropout after all but last recurrent layer, so non-zero dropout expects num_layers greater than 1, but got dropout=0.4 and num_layers=1\n",
      "  warnings.warn(\n"
     ]
    },
    {
     "name": "stdout",
     "output_type": "stream",
     "text": [
      "Validation Accuracy: 0.6267, Precision: 0.6206, Recall: 0.6211, F1-Score: 0.6208\n",
      "Testing: hidden_dim=64, num_layers=1, dropout=0.4, lr=0.001\n"
     ]
    },
    {
     "name": "stderr",
     "output_type": "stream",
     "text": [
      "/Users/reolingovender/Library/Python/3.9/lib/python/site-packages/torch/nn/modules/rnn.py:123: UserWarning: dropout option adds dropout after all but last recurrent layer, so non-zero dropout expects num_layers greater than 1, but got dropout=0.4 and num_layers=1\n",
      "  warnings.warn(\n"
     ]
    },
    {
     "name": "stdout",
     "output_type": "stream",
     "text": [
      "Validation Accuracy: 0.6278, Precision: 0.6185, Recall: 0.6124, F1-Score: 0.6128\n",
      "Testing: hidden_dim=64, num_layers=1, dropout=0.4, lr=0.005\n"
     ]
    },
    {
     "name": "stderr",
     "output_type": "stream",
     "text": [
      "/Users/reolingovender/Library/Python/3.9/lib/python/site-packages/torch/nn/modules/rnn.py:123: UserWarning: dropout option adds dropout after all but last recurrent layer, so non-zero dropout expects num_layers greater than 1, but got dropout=0.4 and num_layers=1\n",
      "  warnings.warn(\n"
     ]
    },
    {
     "name": "stdout",
     "output_type": "stream",
     "text": [
      "Validation Accuracy: 0.6356, Precision: 0.6334, Recall: 0.6356, F1-Score: 0.6329\n",
      "Testing: hidden_dim=64, num_layers=2, dropout=0.2, lr=0.0005\n",
      "Validation Accuracy: 0.6144, Precision: 0.6104, Recall: 0.5802, F1-Score: 0.5659\n",
      "Testing: hidden_dim=64, num_layers=2, dropout=0.2, lr=0.001\n",
      "Validation Accuracy: 0.6144, Precision: 0.6171, Recall: 0.5753, F1-Score: 0.5533\n",
      "Testing: hidden_dim=64, num_layers=2, dropout=0.2, lr=0.005\n",
      "Validation Accuracy: 0.6189, Precision: 0.6159, Recall: 0.5853, F1-Score: 0.5723\n",
      "Testing: hidden_dim=64, num_layers=2, dropout=0.3, lr=0.0005\n",
      "Validation Accuracy: 0.6244, Precision: 0.6207, Recall: 0.5935, F1-Score: 0.5842\n",
      "Testing: hidden_dim=64, num_layers=2, dropout=0.3, lr=0.001\n",
      "Validation Accuracy: 0.6100, Precision: 0.6191, Recall: 0.5663, F1-Score: 0.5342\n",
      "Testing: hidden_dim=64, num_layers=2, dropout=0.3, lr=0.005\n",
      "Validation Accuracy: 0.6278, Precision: 0.6185, Recall: 0.6130, F1-Score: 0.6135\n",
      "Testing: hidden_dim=64, num_layers=2, dropout=0.4, lr=0.0005\n",
      "Validation Accuracy: 0.5700, Precision: 0.5789, Recall: 0.5060, F1-Score: 0.3857\n",
      "Testing: hidden_dim=64, num_layers=2, dropout=0.4, lr=0.001\n"
     ]
    },
    {
     "name": "stderr",
     "output_type": "stream",
     "text": [
      "/Users/reolingovender/Library/Python/3.9/lib/python/site-packages/sklearn/metrics/_classification.py:1531: UndefinedMetricWarning: Precision is ill-defined and being set to 0.0 in labels with no predicted samples. Use `zero_division` parameter to control this behavior.\n",
      "  _warn_prf(average, modifier, f\"{metric.capitalize()} is\", len(result))\n"
     ]
    },
    {
     "name": "stdout",
     "output_type": "stream",
     "text": [
      "Validation Accuracy: 0.5667, Precision: 0.2833, Recall: 0.5000, F1-Score: 0.3617\n",
      "Testing: hidden_dim=64, num_layers=2, dropout=0.4, lr=0.005\n"
     ]
    },
    {
     "name": "stderr",
     "output_type": "stream",
     "text": [
      "/Users/reolingovender/Library/Python/3.9/lib/python/site-packages/sklearn/metrics/_classification.py:1531: UndefinedMetricWarning: Precision is ill-defined and being set to 0.0 in labels with no predicted samples. Use `zero_division` parameter to control this behavior.\n",
      "  _warn_prf(average, modifier, f\"{metric.capitalize()} is\", len(result))\n"
     ]
    },
    {
     "name": "stdout",
     "output_type": "stream",
     "text": [
      "Validation Accuracy: 0.5667, Precision: 0.2833, Recall: 0.5000, F1-Score: 0.3617\n",
      "Testing: hidden_dim=64, num_layers=3, dropout=0.2, lr=0.0005\n",
      "Validation Accuracy: 0.5733, Precision: 0.6854, Recall: 0.5083, F1-Score: 0.3829\n",
      "Testing: hidden_dim=64, num_layers=3, dropout=0.2, lr=0.001\n",
      "Validation Accuracy: 0.5989, Precision: 0.6147, Recall: 0.5489, F1-Score: 0.4983\n",
      "Testing: hidden_dim=64, num_layers=3, dropout=0.2, lr=0.005\n",
      "Validation Accuracy: 0.6244, Precision: 0.6178, Recall: 0.6179, F1-Score: 0.6179\n",
      "Testing: hidden_dim=64, num_layers=3, dropout=0.3, lr=0.0005\n"
     ]
    },
    {
     "name": "stderr",
     "output_type": "stream",
     "text": [
      "/Users/reolingovender/Library/Python/3.9/lib/python/site-packages/sklearn/metrics/_classification.py:1531: UndefinedMetricWarning: Precision is ill-defined and being set to 0.0 in labels with no predicted samples. Use `zero_division` parameter to control this behavior.\n",
      "  _warn_prf(average, modifier, f\"{metric.capitalize()} is\", len(result))\n"
     ]
    },
    {
     "name": "stdout",
     "output_type": "stream",
     "text": [
      "Validation Accuracy: 0.5667, Precision: 0.2833, Recall: 0.5000, F1-Score: 0.3617\n",
      "Testing: hidden_dim=64, num_layers=3, dropout=0.3, lr=0.001\n",
      "Validation Accuracy: 0.6211, Precision: 0.6204, Recall: 0.6225, F1-Score: 0.6191\n",
      "Testing: hidden_dim=64, num_layers=3, dropout=0.3, lr=0.005\n"
     ]
    },
    {
     "name": "stderr",
     "output_type": "stream",
     "text": [
      "/Users/reolingovender/Library/Python/3.9/lib/python/site-packages/sklearn/metrics/_classification.py:1531: UndefinedMetricWarning: Precision is ill-defined and being set to 0.0 in labels with no predicted samples. Use `zero_division` parameter to control this behavior.\n",
      "  _warn_prf(average, modifier, f\"{metric.capitalize()} is\", len(result))\n"
     ]
    },
    {
     "name": "stdout",
     "output_type": "stream",
     "text": [
      "Validation Accuracy: 0.5667, Precision: 0.2833, Recall: 0.5000, F1-Score: 0.3617\n",
      "Testing: hidden_dim=64, num_layers=3, dropout=0.4, lr=0.0005\n",
      "Validation Accuracy: 0.5744, Precision: 0.6389, Recall: 0.5105, F1-Score: 0.3920\n",
      "Testing: hidden_dim=64, num_layers=3, dropout=0.4, lr=0.001\n"
     ]
    },
    {
     "name": "stderr",
     "output_type": "stream",
     "text": [
      "/Users/reolingovender/Library/Python/3.9/lib/python/site-packages/sklearn/metrics/_classification.py:1531: UndefinedMetricWarning: Precision is ill-defined and being set to 0.0 in labels with no predicted samples. Use `zero_division` parameter to control this behavior.\n",
      "  _warn_prf(average, modifier, f\"{metric.capitalize()} is\", len(result))\n"
     ]
    },
    {
     "name": "stdout",
     "output_type": "stream",
     "text": [
      "Validation Accuracy: 0.5667, Precision: 0.2833, Recall: 0.5000, F1-Score: 0.3617\n",
      "Testing: hidden_dim=64, num_layers=3, dropout=0.4, lr=0.005\n",
      "Validation Accuracy: 0.6256, Precision: 0.6165, Recall: 0.6041, F1-Score: 0.6024\n",
      "Testing: hidden_dim=128, num_layers=1, dropout=0.2, lr=0.0005\n"
     ]
    },
    {
     "name": "stderr",
     "output_type": "stream",
     "text": [
      "/Users/reolingovender/Library/Python/3.9/lib/python/site-packages/torch/nn/modules/rnn.py:123: UserWarning: dropout option adds dropout after all but last recurrent layer, so non-zero dropout expects num_layers greater than 1, but got dropout=0.2 and num_layers=1\n",
      "  warnings.warn(\n"
     ]
    },
    {
     "name": "stdout",
     "output_type": "stream",
     "text": [
      "Validation Accuracy: 0.6256, Precision: 0.6254, Recall: 0.6277, F1-Score: 0.6238\n",
      "Testing: hidden_dim=128, num_layers=1, dropout=0.2, lr=0.001\n"
     ]
    },
    {
     "name": "stderr",
     "output_type": "stream",
     "text": [
      "/Users/reolingovender/Library/Python/3.9/lib/python/site-packages/torch/nn/modules/rnn.py:123: UserWarning: dropout option adds dropout after all but last recurrent layer, so non-zero dropout expects num_layers greater than 1, but got dropout=0.2 and num_layers=1\n",
      "  warnings.warn(\n"
     ]
    },
    {
     "name": "stdout",
     "output_type": "stream",
     "text": [
      "Validation Accuracy: 0.6211, Precision: 0.6128, Recall: 0.6111, F1-Score: 0.6116\n",
      "Testing: hidden_dim=128, num_layers=1, dropout=0.2, lr=0.005\n"
     ]
    },
    {
     "name": "stderr",
     "output_type": "stream",
     "text": [
      "/Users/reolingovender/Library/Python/3.9/lib/python/site-packages/torch/nn/modules/rnn.py:123: UserWarning: dropout option adds dropout after all but last recurrent layer, so non-zero dropout expects num_layers greater than 1, but got dropout=0.2 and num_layers=1\n",
      "  warnings.warn(\n"
     ]
    },
    {
     "name": "stdout",
     "output_type": "stream",
     "text": [
      "Validation Accuracy: 0.6400, Precision: 0.6318, Recall: 0.6281, F1-Score: 0.6288\n",
      "Testing: hidden_dim=128, num_layers=1, dropout=0.3, lr=0.0005\n"
     ]
    },
    {
     "name": "stderr",
     "output_type": "stream",
     "text": [
      "/Users/reolingovender/Library/Python/3.9/lib/python/site-packages/torch/nn/modules/rnn.py:123: UserWarning: dropout option adds dropout after all but last recurrent layer, so non-zero dropout expects num_layers greater than 1, but got dropout=0.3 and num_layers=1\n",
      "  warnings.warn(\n"
     ]
    },
    {
     "name": "stdout",
     "output_type": "stream",
     "text": [
      "Validation Accuracy: 0.6267, Precision: 0.6250, Recall: 0.6271, F1-Score: 0.6243\n",
      "Testing: hidden_dim=128, num_layers=1, dropout=0.3, lr=0.001\n"
     ]
    },
    {
     "name": "stderr",
     "output_type": "stream",
     "text": [
      "/Users/reolingovender/Library/Python/3.9/lib/python/site-packages/torch/nn/modules/rnn.py:123: UserWarning: dropout option adds dropout after all but last recurrent layer, so non-zero dropout expects num_layers greater than 1, but got dropout=0.3 and num_layers=1\n",
      "  warnings.warn(\n"
     ]
    },
    {
     "name": "stdout",
     "output_type": "stream",
     "text": [
      "Validation Accuracy: 0.6211, Precision: 0.6222, Recall: 0.6244, F1-Score: 0.6198\n",
      "Testing: hidden_dim=128, num_layers=1, dropout=0.3, lr=0.005\n"
     ]
    },
    {
     "name": "stderr",
     "output_type": "stream",
     "text": [
      "/Users/reolingovender/Library/Python/3.9/lib/python/site-packages/torch/nn/modules/rnn.py:123: UserWarning: dropout option adds dropout after all but last recurrent layer, so non-zero dropout expects num_layers greater than 1, but got dropout=0.3 and num_layers=1\n",
      "  warnings.warn(\n"
     ]
    },
    {
     "name": "stdout",
     "output_type": "stream",
     "text": [
      "Validation Accuracy: 0.6278, Precision: 0.6267, Recall: 0.5956, F1-Score: 0.5850\n",
      "Testing: hidden_dim=128, num_layers=1, dropout=0.4, lr=0.0005\n"
     ]
    },
    {
     "name": "stderr",
     "output_type": "stream",
     "text": [
      "/Users/reolingovender/Library/Python/3.9/lib/python/site-packages/torch/nn/modules/rnn.py:123: UserWarning: dropout option adds dropout after all but last recurrent layer, so non-zero dropout expects num_layers greater than 1, but got dropout=0.4 and num_layers=1\n",
      "  warnings.warn(\n"
     ]
    },
    {
     "name": "stdout",
     "output_type": "stream",
     "text": [
      "Validation Accuracy: 0.5967, Precision: 0.5884, Recall: 0.5578, F1-Score: 0.5345\n",
      "Testing: hidden_dim=128, num_layers=1, dropout=0.4, lr=0.001\n"
     ]
    },
    {
     "name": "stderr",
     "output_type": "stream",
     "text": [
      "/Users/reolingovender/Library/Python/3.9/lib/python/site-packages/torch/nn/modules/rnn.py:123: UserWarning: dropout option adds dropout after all but last recurrent layer, so non-zero dropout expects num_layers greater than 1, but got dropout=0.4 and num_layers=1\n",
      "  warnings.warn(\n"
     ]
    },
    {
     "name": "stdout",
     "output_type": "stream",
     "text": [
      "Validation Accuracy: 0.6222, Precision: 0.6232, Recall: 0.5867, F1-Score: 0.5714\n",
      "Testing: hidden_dim=128, num_layers=1, dropout=0.4, lr=0.005\n"
     ]
    },
    {
     "name": "stderr",
     "output_type": "stream",
     "text": [
      "/Users/reolingovender/Library/Python/3.9/lib/python/site-packages/torch/nn/modules/rnn.py:123: UserWarning: dropout option adds dropout after all but last recurrent layer, so non-zero dropout expects num_layers greater than 1, but got dropout=0.4 and num_layers=1\n",
      "  warnings.warn(\n"
     ]
    },
    {
     "name": "stdout",
     "output_type": "stream",
     "text": [
      "Validation Accuracy: 0.6000, Precision: 0.5933, Recall: 0.5937, F1-Score: 0.5935\n",
      "Testing: hidden_dim=128, num_layers=2, dropout=0.2, lr=0.0005\n",
      "Validation Accuracy: 0.6322, Precision: 0.6254, Recall: 0.6079, F1-Score: 0.6048\n",
      "Testing: hidden_dim=128, num_layers=2, dropout=0.2, lr=0.001\n",
      "Validation Accuracy: 0.6333, Precision: 0.6256, Recall: 0.6113, F1-Score: 0.6096\n",
      "Testing: hidden_dim=128, num_layers=2, dropout=0.2, lr=0.005\n"
     ]
    },
    {
     "name": "stderr",
     "output_type": "stream",
     "text": [
      "/Users/reolingovender/Library/Python/3.9/lib/python/site-packages/sklearn/metrics/_classification.py:1531: UndefinedMetricWarning: Precision is ill-defined and being set to 0.0 in labels with no predicted samples. Use `zero_division` parameter to control this behavior.\n",
      "  _warn_prf(average, modifier, f\"{metric.capitalize()} is\", len(result))\n"
     ]
    },
    {
     "name": "stdout",
     "output_type": "stream",
     "text": [
      "Validation Accuracy: 0.5667, Precision: 0.2833, Recall: 0.5000, F1-Score: 0.3617\n",
      "Testing: hidden_dim=128, num_layers=2, dropout=0.3, lr=0.0005\n"
     ]
    },
    {
     "name": "stderr",
     "output_type": "stream",
     "text": [
      "/Users/reolingovender/Library/Python/3.9/lib/python/site-packages/sklearn/metrics/_classification.py:1531: UndefinedMetricWarning: Precision is ill-defined and being set to 0.0 in labels with no predicted samples. Use `zero_division` parameter to control this behavior.\n",
      "  _warn_prf(average, modifier, f\"{metric.capitalize()} is\", len(result))\n"
     ]
    },
    {
     "name": "stdout",
     "output_type": "stream",
     "text": [
      "Validation Accuracy: 0.5667, Precision: 0.2833, Recall: 0.5000, F1-Score: 0.3617\n",
      "Testing: hidden_dim=128, num_layers=2, dropout=0.3, lr=0.001\n",
      "Validation Accuracy: 0.6356, Precision: 0.6301, Recall: 0.6311, F1-Score: 0.6304\n",
      "Testing: hidden_dim=128, num_layers=2, dropout=0.3, lr=0.005\n",
      "Validation Accuracy: 0.6289, Precision: 0.6276, Recall: 0.5971, F1-Score: 0.5872\n",
      "Testing: hidden_dim=128, num_layers=2, dropout=0.4, lr=0.0005\n",
      "Validation Accuracy: 0.6311, Precision: 0.6239, Recall: 0.6072, F1-Score: 0.6044\n",
      "Testing: hidden_dim=128, num_layers=2, dropout=0.4, lr=0.001\n",
      "Validation Accuracy: 0.6322, Precision: 0.6233, Recall: 0.6143, F1-Score: 0.6141\n",
      "Testing: hidden_dim=128, num_layers=2, dropout=0.4, lr=0.005\n",
      "Validation Accuracy: 0.6244, Precision: 0.6264, Recall: 0.5890, F1-Score: 0.5739\n",
      "Testing: hidden_dim=128, num_layers=3, dropout=0.2, lr=0.0005\n",
      "Validation Accuracy: 0.6067, Precision: 0.5977, Recall: 0.5748, F1-Score: 0.5632\n",
      "Testing: hidden_dim=128, num_layers=3, dropout=0.2, lr=0.001\n",
      "Validation Accuracy: 0.6344, Precision: 0.6300, Recall: 0.6075, F1-Score: 0.6025\n",
      "Testing: hidden_dim=128, num_layers=3, dropout=0.2, lr=0.005\n"
     ]
    },
    {
     "name": "stderr",
     "output_type": "stream",
     "text": [
      "/Users/reolingovender/Library/Python/3.9/lib/python/site-packages/sklearn/metrics/_classification.py:1531: UndefinedMetricWarning: Precision is ill-defined and being set to 0.0 in labels with no predicted samples. Use `zero_division` parameter to control this behavior.\n",
      "  _warn_prf(average, modifier, f\"{metric.capitalize()} is\", len(result))\n"
     ]
    },
    {
     "name": "stdout",
     "output_type": "stream",
     "text": [
      "Validation Accuracy: 0.5667, Precision: 0.2833, Recall: 0.5000, F1-Score: 0.3617\n",
      "Testing: hidden_dim=128, num_layers=3, dropout=0.3, lr=0.0005\n",
      "Validation Accuracy: 0.5678, Precision: 0.5617, Recall: 0.5025, F1-Score: 0.3737\n",
      "Testing: hidden_dim=128, num_layers=3, dropout=0.3, lr=0.001\n",
      "Validation Accuracy: 0.6311, Precision: 0.6221, Recall: 0.6172, F1-Score: 0.6178\n",
      "Testing: hidden_dim=128, num_layers=3, dropout=0.3, lr=0.005\n",
      "Validation Accuracy: 0.6200, Precision: 0.6273, Recall: 0.6285, F1-Score: 0.6198\n",
      "Testing: hidden_dim=128, num_layers=3, dropout=0.4, lr=0.0005\n"
     ]
    },
    {
     "name": "stderr",
     "output_type": "stream",
     "text": [
      "/Users/reolingovender/Library/Python/3.9/lib/python/site-packages/sklearn/metrics/_classification.py:1531: UndefinedMetricWarning: Precision is ill-defined and being set to 0.0 in labels with no predicted samples. Use `zero_division` parameter to control this behavior.\n",
      "  _warn_prf(average, modifier, f\"{metric.capitalize()} is\", len(result))\n"
     ]
    },
    {
     "name": "stdout",
     "output_type": "stream",
     "text": [
      "Validation Accuracy: 0.5667, Precision: 0.2833, Recall: 0.5000, F1-Score: 0.3617\n",
      "Testing: hidden_dim=128, num_layers=3, dropout=0.4, lr=0.001\n",
      "Validation Accuracy: 0.6278, Precision: 0.6349, Recall: 0.5904, F1-Score: 0.5727\n",
      "Testing: hidden_dim=128, num_layers=3, dropout=0.4, lr=0.005\n",
      "Validation Accuracy: 0.6211, Precision: 0.6540, Recall: 0.5740, F1-Score: 0.5352\n",
      "Testing: hidden_dim=256, num_layers=1, dropout=0.2, lr=0.0005\n"
     ]
    },
    {
     "name": "stderr",
     "output_type": "stream",
     "text": [
      "/Users/reolingovender/Library/Python/3.9/lib/python/site-packages/torch/nn/modules/rnn.py:123: UserWarning: dropout option adds dropout after all but last recurrent layer, so non-zero dropout expects num_layers greater than 1, but got dropout=0.2 and num_layers=1\n",
      "  warnings.warn(\n"
     ]
    },
    {
     "name": "stdout",
     "output_type": "stream",
     "text": [
      "Validation Accuracy: 0.6267, Precision: 0.6269, Recall: 0.5931, F1-Score: 0.5807\n",
      "Testing: hidden_dim=256, num_layers=1, dropout=0.2, lr=0.001\n"
     ]
    },
    {
     "name": "stderr",
     "output_type": "stream",
     "text": [
      "/Users/reolingovender/Library/Python/3.9/lib/python/site-packages/torch/nn/modules/rnn.py:123: UserWarning: dropout option adds dropout after all but last recurrent layer, so non-zero dropout expects num_layers greater than 1, but got dropout=0.2 and num_layers=1\n",
      "  warnings.warn(\n"
     ]
    },
    {
     "name": "stdout",
     "output_type": "stream",
     "text": [
      "Validation Accuracy: 0.6311, Precision: 0.6254, Recall: 0.6262, F1-Score: 0.6257\n",
      "Testing: hidden_dim=256, num_layers=1, dropout=0.2, lr=0.005\n"
     ]
    },
    {
     "name": "stderr",
     "output_type": "stream",
     "text": [
      "/Users/reolingovender/Library/Python/3.9/lib/python/site-packages/torch/nn/modules/rnn.py:123: UserWarning: dropout option adds dropout after all but last recurrent layer, so non-zero dropout expects num_layers greater than 1, but got dropout=0.2 and num_layers=1\n",
      "  warnings.warn(\n"
     ]
    },
    {
     "name": "stdout",
     "output_type": "stream",
     "text": [
      "Validation Accuracy: 0.6400, Precision: 0.6319, Recall: 0.6287, F1-Score: 0.6294\n",
      "Testing: hidden_dim=256, num_layers=1, dropout=0.3, lr=0.0005\n"
     ]
    },
    {
     "name": "stderr",
     "output_type": "stream",
     "text": [
      "/Users/reolingovender/Library/Python/3.9/lib/python/site-packages/torch/nn/modules/rnn.py:123: UserWarning: dropout option adds dropout after all but last recurrent layer, so non-zero dropout expects num_layers greater than 1, but got dropout=0.3 and num_layers=1\n",
      "  warnings.warn(\n"
     ]
    },
    {
     "name": "stdout",
     "output_type": "stream",
     "text": [
      "Validation Accuracy: 0.6289, Precision: 0.6198, Recall: 0.6152, F1-Score: 0.6158\n",
      "Testing: hidden_dim=256, num_layers=1, dropout=0.3, lr=0.001\n"
     ]
    },
    {
     "name": "stderr",
     "output_type": "stream",
     "text": [
      "/Users/reolingovender/Library/Python/3.9/lib/python/site-packages/torch/nn/modules/rnn.py:123: UserWarning: dropout option adds dropout after all but last recurrent layer, so non-zero dropout expects num_layers greater than 1, but got dropout=0.3 and num_layers=1\n",
      "  warnings.warn(\n"
     ]
    },
    {
     "name": "stdout",
     "output_type": "stream",
     "text": [
      "Validation Accuracy: 0.6289, Precision: 0.6262, Recall: 0.5983, F1-Score: 0.5897\n",
      "Testing: hidden_dim=256, num_layers=1, dropout=0.3, lr=0.005\n"
     ]
    },
    {
     "name": "stderr",
     "output_type": "stream",
     "text": [
      "/Users/reolingovender/Library/Python/3.9/lib/python/site-packages/torch/nn/modules/rnn.py:123: UserWarning: dropout option adds dropout after all but last recurrent layer, so non-zero dropout expects num_layers greater than 1, but got dropout=0.3 and num_layers=1\n",
      "  warnings.warn(\n",
      "/Users/reolingovender/Library/Python/3.9/lib/python/site-packages/sklearn/metrics/_classification.py:1531: UndefinedMetricWarning: Precision is ill-defined and being set to 0.0 in labels with no predicted samples. Use `zero_division` parameter to control this behavior.\n",
      "  _warn_prf(average, modifier, f\"{metric.capitalize()} is\", len(result))\n",
      "/Users/reolingovender/Library/Python/3.9/lib/python/site-packages/torch/nn/modules/rnn.py:123: UserWarning: dropout option adds dropout after all but last recurrent layer, so non-zero dropout expects num_layers greater than 1, but got dropout=0.4 and num_layers=1\n",
      "  warnings.warn(\n"
     ]
    },
    {
     "name": "stdout",
     "output_type": "stream",
     "text": [
      "Validation Accuracy: 0.5667, Precision: 0.2833, Recall: 0.5000, F1-Score: 0.3617\n",
      "Testing: hidden_dim=256, num_layers=1, dropout=0.4, lr=0.0005\n",
      "Validation Accuracy: 0.5667, Precision: 0.5436, Recall: 0.5320, F1-Score: 0.5133\n",
      "Testing: hidden_dim=256, num_layers=1, dropout=0.4, lr=0.001\n"
     ]
    },
    {
     "name": "stderr",
     "output_type": "stream",
     "text": [
      "/Users/reolingovender/Library/Python/3.9/lib/python/site-packages/torch/nn/modules/rnn.py:123: UserWarning: dropout option adds dropout after all but last recurrent layer, so non-zero dropout expects num_layers greater than 1, but got dropout=0.4 and num_layers=1\n",
      "  warnings.warn(\n"
     ]
    },
    {
     "name": "stdout",
     "output_type": "stream",
     "text": [
      "Validation Accuracy: 0.6222, Precision: 0.6143, Recall: 0.5961, F1-Score: 0.5912\n",
      "Testing: hidden_dim=256, num_layers=1, dropout=0.4, lr=0.005\n"
     ]
    },
    {
     "name": "stderr",
     "output_type": "stream",
     "text": [
      "/Users/reolingovender/Library/Python/3.9/lib/python/site-packages/torch/nn/modules/rnn.py:123: UserWarning: dropout option adds dropout after all but last recurrent layer, so non-zero dropout expects num_layers greater than 1, but got dropout=0.4 and num_layers=1\n",
      "  warnings.warn(\n"
     ]
    },
    {
     "name": "stdout",
     "output_type": "stream",
     "text": [
      "Validation Accuracy: 0.6078, Precision: 0.6595, Recall: 0.5544, F1-Score: 0.4938\n",
      "Testing: hidden_dim=256, num_layers=2, dropout=0.2, lr=0.0005\n",
      "Validation Accuracy: 0.6244, Precision: 0.6264, Recall: 0.5890, F1-Score: 0.5739\n",
      "Testing: hidden_dim=256, num_layers=2, dropout=0.2, lr=0.001\n",
      "Validation Accuracy: 0.6133, Precision: 0.6028, Recall: 0.5970, F1-Score: 0.5968\n",
      "Testing: hidden_dim=256, num_layers=2, dropout=0.2, lr=0.005\n"
     ]
    },
    {
     "name": "stderr",
     "output_type": "stream",
     "text": [
      "/Users/reolingovender/Library/Python/3.9/lib/python/site-packages/sklearn/metrics/_classification.py:1531: UndefinedMetricWarning: Precision is ill-defined and being set to 0.0 in labels with no predicted samples. Use `zero_division` parameter to control this behavior.\n",
      "  _warn_prf(average, modifier, f\"{metric.capitalize()} is\", len(result))\n"
     ]
    },
    {
     "name": "stdout",
     "output_type": "stream",
     "text": [
      "Validation Accuracy: 0.5667, Precision: 0.2833, Recall: 0.5000, F1-Score: 0.3617\n",
      "Testing: hidden_dim=256, num_layers=2, dropout=0.3, lr=0.0005\n",
      "Validation Accuracy: 0.6244, Precision: 0.6158, Recall: 0.6134, F1-Score: 0.6140\n",
      "Testing: hidden_dim=256, num_layers=2, dropout=0.3, lr=0.001\n",
      "Validation Accuracy: 0.6167, Precision: 0.6076, Recall: 0.6051, F1-Score: 0.6056\n",
      "Testing: hidden_dim=256, num_layers=2, dropout=0.3, lr=0.005\n",
      "Validation Accuracy: 0.6178, Precision: 0.6221, Recall: 0.5789, F1-Score: 0.5576\n",
      "Testing: hidden_dim=256, num_layers=2, dropout=0.4, lr=0.0005\n",
      "Validation Accuracy: 0.6344, Precision: 0.6279, Recall: 0.6105, F1-Score: 0.6077\n",
      "Testing: hidden_dim=256, num_layers=2, dropout=0.4, lr=0.001\n",
      "Validation Accuracy: 0.6289, Precision: 0.6232, Recall: 0.6017, F1-Score: 0.5962\n",
      "Testing: hidden_dim=256, num_layers=2, dropout=0.4, lr=0.005\n"
     ]
    },
    {
     "name": "stderr",
     "output_type": "stream",
     "text": [
      "/Users/reolingovender/Library/Python/3.9/lib/python/site-packages/sklearn/metrics/_classification.py:1531: UndefinedMetricWarning: Precision is ill-defined and being set to 0.0 in labels with no predicted samples. Use `zero_division` parameter to control this behavior.\n",
      "  _warn_prf(average, modifier, f\"{metric.capitalize()} is\", len(result))\n"
     ]
    },
    {
     "name": "stdout",
     "output_type": "stream",
     "text": [
      "Validation Accuracy: 0.5667, Precision: 0.2833, Recall: 0.5000, F1-Score: 0.3617\n",
      "Testing: hidden_dim=256, num_layers=3, dropout=0.2, lr=0.0005\n"
     ]
    },
    {
     "name": "stderr",
     "output_type": "stream",
     "text": [
      "/Users/reolingovender/Library/Python/3.9/lib/python/site-packages/sklearn/metrics/_classification.py:1531: UndefinedMetricWarning: Precision is ill-defined and being set to 0.0 in labels with no predicted samples. Use `zero_division` parameter to control this behavior.\n",
      "  _warn_prf(average, modifier, f\"{metric.capitalize()} is\", len(result))\n"
     ]
    },
    {
     "name": "stdout",
     "output_type": "stream",
     "text": [
      "Validation Accuracy: 0.5667, Precision: 0.2833, Recall: 0.5000, F1-Score: 0.3617\n",
      "Testing: hidden_dim=256, num_layers=3, dropout=0.2, lr=0.001\n",
      "Validation Accuracy: 0.6167, Precision: 0.6175, Recall: 0.5794, F1-Score: 0.5608\n",
      "Testing: hidden_dim=256, num_layers=3, dropout=0.2, lr=0.005\n",
      "Validation Accuracy: 0.6067, Precision: 0.6034, Recall: 0.6050, F1-Score: 0.6032\n",
      "Testing: hidden_dim=256, num_layers=3, dropout=0.3, lr=0.0005\n",
      "Validation Accuracy: 0.6267, Precision: 0.6188, Recall: 0.6175, F1-Score: 0.6179\n",
      "Testing: hidden_dim=256, num_layers=3, dropout=0.3, lr=0.001\n",
      "Validation Accuracy: 0.5644, Precision: 0.5699, Recall: 0.5707, F1-Score: 0.5641\n",
      "Testing: hidden_dim=256, num_layers=3, dropout=0.3, lr=0.005\n"
     ]
    },
    {
     "name": "stderr",
     "output_type": "stream",
     "text": [
      "/Users/reolingovender/Library/Python/3.9/lib/python/site-packages/sklearn/metrics/_classification.py:1531: UndefinedMetricWarning: Precision is ill-defined and being set to 0.0 in labels with no predicted samples. Use `zero_division` parameter to control this behavior.\n",
      "  _warn_prf(average, modifier, f\"{metric.capitalize()} is\", len(result))\n"
     ]
    },
    {
     "name": "stdout",
     "output_type": "stream",
     "text": [
      "Validation Accuracy: 0.5667, Precision: 0.2833, Recall: 0.5000, F1-Score: 0.3617\n",
      "Testing: hidden_dim=256, num_layers=3, dropout=0.4, lr=0.0005\n",
      "Validation Accuracy: 0.6267, Precision: 0.6197, Recall: 0.6006, F1-Score: 0.5960\n",
      "Testing: hidden_dim=256, num_layers=3, dropout=0.4, lr=0.001\n",
      "Validation Accuracy: 0.6300, Precision: 0.6278, Recall: 0.5993, F1-Score: 0.5907\n",
      "Testing: hidden_dim=256, num_layers=3, dropout=0.4, lr=0.005\n",
      "Validation Accuracy: 0.5667, Precision: 0.2833, Recall: 0.5000, F1-Score: 0.3617\n",
      "Best Validation Accuracy (F1-Score): 0.6329\n",
      "Best Parameters: hidden_dim=64, num_layers=1, dropout=0.4, lr=0.005\n"
     ]
    },
    {
     "name": "stderr",
     "output_type": "stream",
     "text": [
      "/Users/reolingovender/Library/Python/3.9/lib/python/site-packages/sklearn/metrics/_classification.py:1531: UndefinedMetricWarning: Precision is ill-defined and being set to 0.0 in labels with no predicted samples. Use `zero_division` parameter to control this behavior.\n",
      "  _warn_prf(average, modifier, f\"{metric.capitalize()} is\", len(result))\n"
     ]
    }
   ],
   "source": [
    "import itertools\n",
    "from torch.utils.data import DataLoader\n",
    "\n",
    "# Define hyperparameter grid\n",
    "hidden_dims = [64, 128, 256]\n",
    "num_layers = [1, 2, 3]\n",
    "dropouts = [0.2, 0.3, 0.4]\n",
    "learning_rates = [0.0005, 0.001, 0.005]\n",
    "\n",
    "# Cartesian product of hyperparameter combinations\n",
    "param_grid = list(itertools.product(hidden_dims, num_layers, dropouts, learning_rates))\n",
    "\n",
    "# Example validation DataLoader\n",
    "val_loader = DataLoader(val_dataset, batch_size=16, shuffle=False)\n",
    "\n",
    "# Best configuration tracking\n",
    "best_val_accuracy = 0\n",
    "best_params = None\n",
    "\n",
    "# Training and evaluation function\n",
    "def train_and_evaluate(hidden_dim, num_layers, dropout, lr):\n",
    "    model = FurtherEnhancedBiLSTMWithAttention(input_dim, hidden_dim, output_dim, num_layers, dropout)\n",
    "    optimizer = torch.optim.Adam(model.parameters(), lr=lr)\n",
    "    criterion = nn.CrossEntropyLoss()\n",
    "\n",
    "    # Training loop\n",
    "    for epoch in range(10):  # Reduce epochs for faster grid search\n",
    "        model.train()\n",
    "        for batch_features, batch_labels in train_loader:\n",
    "            batch_labels = batch_labels[:, 0]  # Sequence-level labels\n",
    "            outputs = model(batch_features)\n",
    "            loss = criterion(outputs, batch_labels)\n",
    "            optimizer.zero_grad()\n",
    "            loss.backward()\n",
    "            torch.nn.utils.clip_grad_norm_(model.parameters(), max_norm=1.0)\n",
    "            optimizer.step()\n",
    "\n",
    "    # Evaluate on validation data\n",
    "    model.eval()\n",
    "    total, correct = 0, 0\n",
    "    all_predictions = []\n",
    "    all_labels = []\n",
    "    with torch.no_grad():\n",
    "        for batch_features, batch_labels in val_loader:\n",
    "            batch_labels = batch_labels[:, 0]  # Sequence-level labels\n",
    "            outputs = model(batch_features)\n",
    "            predictions = torch.argmax(outputs, dim=1)\n",
    "            correct += (predictions == batch_labels).sum().item()\n",
    "            total += batch_labels.size(0)\n",
    "            all_predictions.extend(predictions.cpu().numpy())\n",
    "            all_labels.extend(batch_labels.cpu().numpy())\n",
    "\n",
    "    # Calculate metrics\n",
    "    val_accuracy = correct / total\n",
    "    precision = precision_score(all_labels, all_predictions, average='macro')\n",
    "    recall = recall_score(all_labels, all_predictions, average='macro')\n",
    "    f1 = f1_score(all_labels, all_predictions, average='macro')\n",
    "\n",
    "    return val_accuracy, precision, recall, f1\n",
    "\n",
    "# Grid search\n",
    "for hidden_dim, num_layer, dropout, lr in param_grid:\n",
    "    print(f\"Testing: hidden_dim={hidden_dim}, num_layers={num_layer}, dropout={dropout}, lr={lr}\")\n",
    "    val_accuracy, precision, recall, f1 = train_and_evaluate(hidden_dim, num_layer, dropout, lr)\n",
    "    print(f\"Validation Accuracy: {val_accuracy:.4f}, Precision: {precision:.4f}, Recall: {recall:.4f}, F1-Score: {f1:.4f}\")\n",
    "\n",
    "    # Update best configuration (prioritizing F1-Score)\n",
    "    if f1 > best_val_accuracy:  # Assuming F1 is the most important metric\n",
    "        best_val_accuracy = f1\n",
    "        best_params = (hidden_dim, num_layer, dropout, lr)\n",
    "\n",
    "print(f\"Best Validation Accuracy (F1-Score): {best_val_accuracy:.4f}\")\n",
    "print(f\"Best Parameters: hidden_dim={best_params[0]}, num_layers={best_params[1]}, dropout={best_params[2]}, lr={best_params[3]}\")"
   ]
  },
  {
   "cell_type": "markdown",
   "metadata": {},
   "source": [
    "## Feature Selection/Importance"
   ]
  },
  {
   "cell_type": "code",
   "execution_count": 36,
   "metadata": {},
   "outputs": [
    {
     "name": "stdout",
     "output_type": "stream",
     "text": [
      "Feature 11: tfidf_cosine_similarity, Importance: 0.140\n",
      "Feature 9: embedding_similarity, Importance: 0.106\n",
      "Feature 10: jaccard_similarity, Importance: 0.093\n",
      "Feature 5: diff_max_cosine_sim, Importance: 0.025\n",
      "Feature 8: diff_semantic_shift, Importance: 0.023\n",
      "Feature 3: diff_punctuation_density, Importance: 0.022\n",
      "Feature 14: sentiment_polarity_diff, Importance: 0.020\n",
      "Feature 4: diff_capitalization_ratio, Importance: 0.017\n",
      "Feature 1: diff_avg_word_length, Importance: 0.016\n",
      "Feature 2: diff_unique_word_ratio, Importance: 0.016\n",
      "Feature 7: diff_entropy, Importance: 0.015\n",
      "Feature 12: stopword_density_diff, Importance: 0.014\n",
      "Feature 6: diff_rare_word_ratio, Importance: 0.012\n",
      "Feature 0: diff_sentence_length, Importance: 0.008\n",
      "Feature 13: named_entity_overlap, Importance: 0.000\n"
     ]
    }
   ],
   "source": [
    "from sklearn.ensemble import RandomForestClassifier\n",
    "from sklearn.inspection import permutation_importance\n",
    "\n",
    "# Assuming processed data is loaded into a DataFrame\n",
    "X = df_features_train.drop(columns=['label', 'paragraph_1', 'paragraph_2']).to_numpy()\n",
    "y = df_features_train['label']\n",
    "\n",
    "# Fit a simple classifier\n",
    "model = RandomForestClassifier()\n",
    "model.fit(X, y)\n",
    "\n",
    "# Compute permutation importance\n",
    "perm_importance = permutation_importance(model, X, y, n_repeats=10, random_state=42)\n",
    "\n",
    "# Display results\n",
    "for i in perm_importance.importances_mean.argsort()[::-1]:\n",
    "    print(f\"Feature {i}: {df_features_train.columns[i]}, Importance: {perm_importance.importances_mean[i]:.3f}\")\n"
   ]
  },
  {
   "cell_type": "code",
   "execution_count": 37,
   "metadata": {},
   "outputs": [
    {
     "data": {
      "image/png": "[encoded data removed]",
      "text/plain": [
       "<Figure size 1200x800 with 2 Axes>"
      ]
     },
     "metadata": {},
     "output_type": "display_data"
    },
    {
     "name": "stdout",
     "output_type": "stream",
     "text": [
      "Correlation of features with the target variable (label):\n",
      " diff_sentence_length        -0.028879\n",
      "diff_avg_word_length         0.058248\n",
      "diff_unique_word_ratio       0.065378\n",
      "diff_punctuation_density    -0.006493\n",
      "diff_capitalization_ratio    0.035645\n",
      "diff_max_cosine_sim          0.025075\n",
      "diff_rare_word_ratio        -0.059538\n",
      "diff_entropy                 0.070090\n",
      "diff_semantic_shift          0.014148\n",
      "embedding_similarity        -0.220740\n",
      "jaccard_similarity          -0.210239\n",
      "tfidf_cosine_similarity     -0.255186\n",
      "stopword_density_diff        0.019716\n",
      "named_entity_overlap              NaN\n",
      "sentiment_polarity_diff     -0.031592\n",
      "Name: label, dtype: float64\n"
     ]
    }
   ],
   "source": [
    "import pandas as pd\n",
    "import seaborn as sns\n",
    "import matplotlib.pyplot as plt\n",
    "\n",
    "# Example: Assuming `consolidated_data` is the processed DataFrame\n",
    "# Drop non-numeric columns (like paragraph texts and embeddings)\n",
    "numeric_data = df_features_train.drop(columns=['paragraph_1', 'paragraph_2', 'embedding'], errors='ignore')\n",
    "\n",
    "# Calculate the correlation matrix\n",
    "correlation_matrix = numeric_data.corr()\n",
    "\n",
    "# Plot the heatmap for visualization\n",
    "plt.figure(figsize=(12, 8))\n",
    "sns.heatmap(correlation_matrix, annot=True, fmt=\".2f\", cmap=\"coolwarm\")\n",
    "plt.title(\"Feature Correlation Matrix\")\n",
    "plt.show()\n",
    "\n",
    "# Focus on the correlation with the target variable ('label')\n",
    "label_correlation = correlation_matrix['label'].drop('label', errors='ignore')\n",
    "print(\"Correlation of features with the target variable (label):\\n\", label_correlation)\n"
   ]
  },
  {
   "cell_type": "code",
   "execution_count": null,
   "metadata": {},
   "outputs": [],
   "source": []
  }
 ],
 "metadata": {
  "kernelspec": {
   "display_name": "Python 3",
   "language": "python",
   "name": "python3"
  },
  "language_info": {
   "codemirror_mode": {
    "name": "ipython",
    "version": 3
   },
   "file_extension": ".py",
   "mimetype": "text/x-python",
   "name": "python",
   "nbconvert_exporter": "python",
   "pygments_lexer": "ipython3",
   "version": "3.9.6"
  }
 },
 "nbformat": 4,
 "nbformat_minor": 2
}
